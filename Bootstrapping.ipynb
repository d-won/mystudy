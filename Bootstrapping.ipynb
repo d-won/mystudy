{
 "cells": [
  {
   "cell_type": "markdown",
   "metadata": {},
   "source": [
    "https://bkshin.tistory.com/entry/DATA-12"
   ]
  },
  {
   "cell_type": "code",
   "execution_count": null,
   "metadata": {},
   "outputs": [],
   "source": [
    "iterationNum = 10000\n",
    "diffHeightList = []\n",
    "for _ in range(iterationNum):\n",
    "    bootSample = df_sample.sample(200, replace=True) # 복원 추출\n",
    "    nonCoffeeHeightMean = bootSample[bootSample['drinks_coffee'] == False].height.mean() # 커피를 마시지 않는 사람 평균 키\n",
    "    coffeeHeightMean = bootSample[bootSample['drinks_coffee'] == True].height.mean() # 커피를 마시는 사람 평균 키\n",
    "    diff = nonCoffeeHeightMean - coffeeHeightMean\n",
    "    diffHeightList.append(diff)\n",
    "\n",
    "#  신뢰수준 99%인 평균 키 차이에 대한 신뢰구간\n",
    "np.percentile(diffHeightList, 0.5), np.percentile(diffHeightList, 99.5)"
   ]
  }
 ],
 "metadata": {
  "kernelspec": {
   "display_name": "Python 3",
   "language": "python",
   "name": "python3"
  },
  "language_info": {
   "codemirror_mode": {
    "name": "ipython",
    "version": 3
   },
   "file_extension": ".py",
   "mimetype": "text/x-python",
   "name": "python",
   "nbconvert_exporter": "python",
   "pygments_lexer": "ipython3",
   "version": "3.8.3"
  }
 },
 "nbformat": 4,
 "nbformat_minor": 4
}
