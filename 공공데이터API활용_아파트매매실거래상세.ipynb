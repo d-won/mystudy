{
 "cells": [
  {
   "cell_type": "code",
   "execution_count": 1,
   "metadata": {
    "scrolled": true
   },
   "outputs": [],
   "source": [
    "# import PublicDataReader as pdr\n",
    "# print(pdr.__version__)\n",
    "\n",
    "# # 2. 공공 데이터 포털 Open API 서비스 인증키 입력하기\n",
    "# serviceKey = \"po%2BvjDs%2FHPpj2k7XRSj5JS4rN1QS3cNbauVItFsr92W3Y5SINeUQekkwj2oVEPxd%2B5lDhNURO%2BEXZPUHVs95bg%3D%3D\""
   ]
  },
  {
   "cell_type": "markdown",
   "metadata": {},
   "source": [
    "https://greendreamtrre.tistory.com/268"
   ]
  },
  {
   "cell_type": "markdown",
   "metadata": {},
   "source": [
    "* 기본 url 존재: 상세 page에서 확인\n",
    "* 해당 기본 url에 '필수 요청사항'들을 더하여 request url 완성\n",
    "* 필수 요청사항 및 상세사항은 상세 문서 확인 필요"
   ]
  },
  {
   "cell_type": "code",
   "execution_count": 2,
   "metadata": {},
   "outputs": [],
   "source": [
    "import requests, bs4\n",
    "import pandas as pd\n",
    "from lxml import html\n",
    "from urllib.request import Request, urlopen\n",
    "from urllib.parse import urlencode, quote_plus, unquote"
   ]
  },
  {
   "cell_type": "code",
   "execution_count": 14,
   "metadata": {},
   "outputs": [],
   "source": [
    "def get_data(api_key_p, rgn_cd_p, date_p) :\n",
    "    queryParams = '?' + urlencode(    # get 방식으로 쿼리를 분리하기 위해 '?'를 넣은 것이다. 메타코드 아님.\n",
    "        {\n",
    "            quote_plus('ServiceKey') : api_key_p,    # 필수 항목 1 : 서비스키 (본인의 서비스키)\n",
    "            quote_plus('LAWD_CD') : rgn_cd_p,          # 필수 항목 2 : 지역코드 (법정코드목록조회에서 확인)\n",
    "            quote_plus('DEAL_YMD') : date_p,        # 픽수 항목 3 : 계약월\n",
    "            quote_plus('numOfRows') : '9999'\n",
    "         }\n",
    "    )\n",
    "\n",
    "    response = requests.get(xmlUrl + queryParams).text.encode('utf-8')\n",
    "    \n",
    "    return response\n",
    "\n",
    "def get_items(reponse) : \n",
    "    xmlobj = bs4.BeautifulSoup(response, 'lxml-xml')\n",
    "    rows = xmlobj.findAll('item')\n",
    "\n",
    "    rowList = []\n",
    "    nameList = []\n",
    "    columnList = {}\n",
    "    rowsLen = len(rows)\n",
    "    \n",
    "    for i in range(rowsLen):\n",
    "        columns = rows[i].find_all()\n",
    "\n",
    "        columnsLen = len(columns)\n",
    "        for j in range(0, columnsLen):\n",
    "\n",
    "            #### 1. Column Name 만들기\n",
    "            columnList[columns[j].name] =  columns[j].text\n",
    "\n",
    "            #### 2. Column 별 data 수집하기 (Row 데이터 생성)\n",
    "            #eachColumn = columns[j].text # column 내 순서대로 값들 추출\n",
    "            #columnList.append(eachColumn) # 추출한 값들을 list 형태로 저장, 다 저장되면 1개 row의 모든 값들 저장 완성\n",
    "\n",
    "        #### 3. Row 데이터 누적\n",
    "        rowList.append(columnList) # 위에서 완성된 row data를 rowList에 저장하여 1개씩 row 누적 완성\n",
    "\n",
    "        columnList = {}\n",
    "\n",
    "    result = pd.DataFrame(rowList)\n",
    "    int_col = ['거래금액', '건축년도', '년', '전용면적', '월', '일', '층']\n",
    "    \n",
    "    for i in int_col :\n",
    "        result[i] = pd.to_numeric(result[i].str.replace(',',''))\n",
    "    \n",
    "    return result"
   ]
  },
  {
   "cell_type": "markdown",
   "metadata": {},
   "source": [
    "## 1. API를 통해 데이터 다운로드하는 법"
   ]
  },
  {
   "cell_type": "code",
   "execution_count": 3,
   "metadata": {},
   "outputs": [],
   "source": [
    "xmlUrl = 'http://openapi.molit.go.kr/OpenAPI_ToolInstallPackage/service/rest/RTMSOBJSvc/getRTMSDataSvcAptTradeDev'\n",
    "api_key = unquote('po%2BvjDs%2FHPpj2k7XRSj5JS4rN1QS3cNbauVItFsr92W3Y5SINeUQekkwj2oVEPxd%2B5lDhNURO%2BEXZPUHVs95bg%3D%3D')"
   ]
  },
  {
   "cell_type": "code",
   "execution_count": 5,
   "metadata": {},
   "outputs": [],
   "source": [
    "############# 필수 항목은 공공데이터 상세설명 -> 상세기능 -> 요청변수 중 '필수' 항목\n",
    "\n",
    "queryParams = '?' + urlencode(    # get 방식으로 쿼리를 분리하기 위해 '?'를 넣은 것이다. 메타코드 아님.\n",
    "    {\n",
    "        quote_plus('ServiceKey') : api_key,    # 필수 항목 1 : 서비스키 (본인의 서비스키)\n",
    "        quote_plus('LAWD_CD') : '11110',          # 필수 항목 2 : 지역코드 (법정코드목록조회에서 확인)\n",
    "        quote_plus('DEAL_YMD') : '201512'         # 픽수 항목 3 : 계약월\n",
    "     }\n",
    ")"
   ]
  },
  {
   "cell_type": "code",
   "execution_count": null,
   "metadata": {},
   "outputs": [],
   "source": [
    "# ## Decode 후 과정\n",
    "# api_key_decode = requests.utils.unquote(My_API_Key)\n",
    "# parameters = {'ServiceKey' : api_key_decode, 'LAWD_CD' :'11110', 'DEAL_YMD':'201512'}\n",
    "# req = requests.get(xmlUrl, params = parameters)\n",
    "# req.text"
   ]
  },
  {
   "cell_type": "code",
   "execution_count": 6,
   "metadata": {},
   "outputs": [],
   "source": [
    "response = requests.get(xmlUrl + queryParams).text.encode('utf-8')\n",
    "xmlobj = bs4.BeautifulSoup(response, 'lxml-xml')\n",
    "# xmlobj    # 디버깅용."
   ]
  },
  {
   "cell_type": "code",
   "execution_count": 7,
   "metadata": {},
   "outputs": [
    {
     "data": {
      "text/plain": [
       "('거래금액', '    82,500')"
      ]
     },
     "execution_count": 7,
     "metadata": {},
     "output_type": "execute_result"
    }
   ],
   "source": [
    "rows = xmlobj.findAll('item') # 전체 item 데이터 보유\n",
    "columns = rows[0].find_all() # 1개 item의 데이터\n",
    "columns[0].name, columns[0].text # 첫번째 item의 name, text 추출"
   ]
  },
  {
   "cell_type": "code",
   "execution_count": 8,
   "metadata": {},
   "outputs": [
    {
     "data": {
      "text/plain": [
       "[<item><거래금액>    82,500</거래금액><건축년도>2008</건축년도><년>2015</년><도로명>사직로8길</도로명><도로명건물본번호코드>00004</도로명건물본번호코드><도로명건물부번호코드>00000</도로명건물부번호코드><도로명시군구코드>11110</도로명시군구코드><도로명일련번호코드>03</도로명일련번호코드><도로명지상지하코드>0</도로명지상지하코드><도로명코드>4100135</도로명코드><법정동> 사직동</법정동><법정동본번코드>0009</법정동본번코드><법정동부번코드>0000</법정동부번코드><법정동시군구코드>11110</법정동시군구코드><법정동읍면동코드>11500</법정동읍면동코드><법정동지번코드>1</법정동지번코드><아파트>광화문풍림스페이스본(101동~105동)</아파트><월>12</월><일>10</일><일련번호>11110-2203</일련번호><전용면적>94.51</전용면적><지번>9</지번><지역코드>11110</지역코드><층>11</층></item>,\n",
       " <item><거래금액>    60,000</거래금액><건축년도>1981</건축년도><년>2015</년><도로명>세종대로23길</도로명><도로명건물본번호코드>00047</도로명건물본번호코드><도로명건물부번호코드>00000</도로명건물부번호코드><도로명시군구코드>11110</도로명시군구코드><도로명일련번호코드>02</도로명일련번호코드><도로명지상지하코드>0</도로명지상지하코드><도로명코드>4100190</도로명코드><법정동> 당주동</법정동><법정동본번코드>0145</법정동본번코드><법정동부번코드>0000</법정동부번코드><법정동시군구코드>11110</법정동시군구코드><법정동읍면동코드>11700</법정동읍면동코드><법정동지번코드>1</법정동지번코드><아파트>롯데미도파광화문빌딩</아파트><월>12</월><일>22</일><일련번호>11110-12</일련번호><전용면적>149.95</전용면적><지번>145</지번><지역코드>11110</지역코드><층>8</층></item>,\n",
       " <item><거래금액>   130,000</거래금액><건축년도>2004</건축년도><년>2015</년><도로명>경희궁2길</도로명><도로명건물본번호코드>00005</도로명건물본번호코드><도로명건물부번호코드>00005</도로명건물부번호코드><도로명시군구코드>11110</도로명시군구코드><도로명일련번호코드>01</도로명일련번호코드><도로명지상지하코드>0</도로명지상지하코드><도로명코드>4100005</도로명코드><법정동> 내수동</법정동><법정동본번코드>0110</법정동본번코드><법정동부번코드>0015</법정동부번코드><법정동시군구코드>11110</법정동시군구코드><법정동읍면동코드>11800</법정동읍면동코드><법정동지번코드>1</법정동지번코드><아파트>킹스매너</아파트><월>12</월><일>8</일><일련번호>11110-118</일련번호><전용면적>194.43</전용면적><지번>110-15</지번><지역코드>11110</지역코드><층>6</층></item>]"
      ]
     },
     "execution_count": 8,
     "metadata": {},
     "output_type": "execute_result"
    }
   ],
   "source": [
    "rows[:3]"
   ]
  },
  {
   "cell_type": "code",
   "execution_count": 9,
   "metadata": {},
   "outputs": [
    {
     "data": {
      "text/plain": [
       "[<거래금액>    82,500</거래금액>,\n",
       " <건축년도>2008</건축년도>,\n",
       " <년>2015</년>,\n",
       " <도로명>사직로8길</도로명>,\n",
       " <도로명건물본번호코드>00004</도로명건물본번호코드>,\n",
       " <도로명건물부번호코드>00000</도로명건물부번호코드>,\n",
       " <도로명시군구코드>11110</도로명시군구코드>,\n",
       " <도로명일련번호코드>03</도로명일련번호코드>,\n",
       " <도로명지상지하코드>0</도로명지상지하코드>,\n",
       " <도로명코드>4100135</도로명코드>,\n",
       " <법정동> 사직동</법정동>,\n",
       " <법정동본번코드>0009</법정동본번코드>,\n",
       " <법정동부번코드>0000</법정동부번코드>,\n",
       " <법정동시군구코드>11110</법정동시군구코드>,\n",
       " <법정동읍면동코드>11500</법정동읍면동코드>,\n",
       " <법정동지번코드>1</법정동지번코드>,\n",
       " <아파트>광화문풍림스페이스본(101동~105동)</아파트>,\n",
       " <월>12</월>,\n",
       " <일>10</일>,\n",
       " <일련번호>11110-2203</일련번호>,\n",
       " <전용면적>94.51</전용면적>,\n",
       " <지번>9</지번>,\n",
       " <지역코드>11110</지역코드>,\n",
       " <층>11</층>]"
      ]
     },
     "execution_count": 9,
     "metadata": {},
     "output_type": "execute_result"
    }
   ],
   "source": [
    "columns"
   ]
  },
  {
   "cell_type": "code",
   "execution_count": 10,
   "metadata": {},
   "outputs": [
    {
     "data": {
      "text/plain": [
       "('거래금액', '    82,500')"
      ]
     },
     "execution_count": 10,
     "metadata": {},
     "output_type": "execute_result"
    }
   ],
   "source": [
    "columns[0].name, columns[0].text"
   ]
  },
  {
   "cell_type": "code",
   "execution_count": 11,
   "metadata": {},
   "outputs": [
    {
     "data": {
      "text/html": [
       "<div>\n",
       "<style scoped>\n",
       "    .dataframe tbody tr th:only-of-type {\n",
       "        vertical-align: middle;\n",
       "    }\n",
       "\n",
       "    .dataframe tbody tr th {\n",
       "        vertical-align: top;\n",
       "    }\n",
       "\n",
       "    .dataframe thead th {\n",
       "        text-align: right;\n",
       "    }\n",
       "</style>\n",
       "<table border=\"1\" class=\"dataframe\">\n",
       "  <thead>\n",
       "    <tr style=\"text-align: right;\">\n",
       "      <th></th>\n",
       "      <th>거래금액</th>\n",
       "      <th>건축년도</th>\n",
       "      <th>년</th>\n",
       "      <th>도로명</th>\n",
       "      <th>도로명건물본번호코드</th>\n",
       "      <th>도로명건물부번호코드</th>\n",
       "      <th>도로명시군구코드</th>\n",
       "      <th>도로명일련번호코드</th>\n",
       "      <th>도로명지상지하코드</th>\n",
       "      <th>도로명코드</th>\n",
       "      <th>...</th>\n",
       "      <th>법정동읍면동코드</th>\n",
       "      <th>법정동지번코드</th>\n",
       "      <th>아파트</th>\n",
       "      <th>월</th>\n",
       "      <th>일</th>\n",
       "      <th>일련번호</th>\n",
       "      <th>전용면적</th>\n",
       "      <th>지번</th>\n",
       "      <th>지역코드</th>\n",
       "      <th>층</th>\n",
       "    </tr>\n",
       "  </thead>\n",
       "  <tbody>\n",
       "    <tr>\n",
       "      <th>0</th>\n",
       "      <td>82,500</td>\n",
       "      <td>2008</td>\n",
       "      <td>2015</td>\n",
       "      <td>사직로8길</td>\n",
       "      <td>00004</td>\n",
       "      <td>00000</td>\n",
       "      <td>11110</td>\n",
       "      <td>03</td>\n",
       "      <td>0</td>\n",
       "      <td>4100135</td>\n",
       "      <td>...</td>\n",
       "      <td>11500</td>\n",
       "      <td>1</td>\n",
       "      <td>광화문풍림스페이스본(101동~105동)</td>\n",
       "      <td>12</td>\n",
       "      <td>10</td>\n",
       "      <td>11110-2203</td>\n",
       "      <td>94.51</td>\n",
       "      <td>9</td>\n",
       "      <td>11110</td>\n",
       "      <td>11</td>\n",
       "    </tr>\n",
       "    <tr>\n",
       "      <th>1</th>\n",
       "      <td>60,000</td>\n",
       "      <td>1981</td>\n",
       "      <td>2015</td>\n",
       "      <td>세종대로23길</td>\n",
       "      <td>00047</td>\n",
       "      <td>00000</td>\n",
       "      <td>11110</td>\n",
       "      <td>02</td>\n",
       "      <td>0</td>\n",
       "      <td>4100190</td>\n",
       "      <td>...</td>\n",
       "      <td>11700</td>\n",
       "      <td>1</td>\n",
       "      <td>롯데미도파광화문빌딩</td>\n",
       "      <td>12</td>\n",
       "      <td>22</td>\n",
       "      <td>11110-12</td>\n",
       "      <td>149.95</td>\n",
       "      <td>145</td>\n",
       "      <td>11110</td>\n",
       "      <td>8</td>\n",
       "    </tr>\n",
       "    <tr>\n",
       "      <th>2</th>\n",
       "      <td>130,000</td>\n",
       "      <td>2004</td>\n",
       "      <td>2015</td>\n",
       "      <td>경희궁2길</td>\n",
       "      <td>00005</td>\n",
       "      <td>00005</td>\n",
       "      <td>11110</td>\n",
       "      <td>01</td>\n",
       "      <td>0</td>\n",
       "      <td>4100005</td>\n",
       "      <td>...</td>\n",
       "      <td>11800</td>\n",
       "      <td>1</td>\n",
       "      <td>킹스매너</td>\n",
       "      <td>12</td>\n",
       "      <td>8</td>\n",
       "      <td>11110-118</td>\n",
       "      <td>194.43</td>\n",
       "      <td>110-15</td>\n",
       "      <td>11110</td>\n",
       "      <td>6</td>\n",
       "    </tr>\n",
       "    <tr>\n",
       "      <th>3</th>\n",
       "      <td>105,000</td>\n",
       "      <td>2004</td>\n",
       "      <td>2015</td>\n",
       "      <td>사직로8길</td>\n",
       "      <td>00024</td>\n",
       "      <td>00000</td>\n",
       "      <td>11110</td>\n",
       "      <td>05</td>\n",
       "      <td>0</td>\n",
       "      <td>4100135</td>\n",
       "      <td>...</td>\n",
       "      <td>11800</td>\n",
       "      <td>1</td>\n",
       "      <td>경희궁의아침2단지</td>\n",
       "      <td>12</td>\n",
       "      <td>14</td>\n",
       "      <td>11110-115</td>\n",
       "      <td>124.17</td>\n",
       "      <td>71</td>\n",
       "      <td>11110</td>\n",
       "      <td>8</td>\n",
       "    </tr>\n",
       "    <tr>\n",
       "      <th>4</th>\n",
       "      <td>120,000</td>\n",
       "      <td>2003</td>\n",
       "      <td>2015</td>\n",
       "      <td>사직로8길</td>\n",
       "      <td>00020</td>\n",
       "      <td>00000</td>\n",
       "      <td>11110</td>\n",
       "      <td>05</td>\n",
       "      <td>0</td>\n",
       "      <td>4100135</td>\n",
       "      <td>...</td>\n",
       "      <td>11800</td>\n",
       "      <td>1</td>\n",
       "      <td>경희궁 파크팰리스</td>\n",
       "      <td>12</td>\n",
       "      <td>24</td>\n",
       "      <td>11110-107</td>\n",
       "      <td>146.33</td>\n",
       "      <td>95</td>\n",
       "      <td>11110</td>\n",
       "      <td>4</td>\n",
       "    </tr>\n",
       "  </tbody>\n",
       "</table>\n",
       "<p>5 rows × 24 columns</p>\n",
       "</div>"
      ],
      "text/plain": [
       "         거래금액  건축년도     년      도로명 도로명건물본번호코드 도로명건물부번호코드 도로명시군구코드 도로명일련번호코드  \\\n",
       "0      82,500  2008  2015    사직로8길      00004      00000    11110        03   \n",
       "1      60,000  1981  2015  세종대로23길      00047      00000    11110        02   \n",
       "2     130,000  2004  2015    경희궁2길      00005      00005    11110        01   \n",
       "3     105,000  2004  2015    사직로8길      00024      00000    11110        05   \n",
       "4     120,000  2003  2015    사직로8길      00020      00000    11110        05   \n",
       "\n",
       "  도로명지상지하코드    도로명코드  ... 법정동읍면동코드 법정동지번코드                    아파트   월   일  \\\n",
       "0         0  4100135  ...    11500       1  광화문풍림스페이스본(101동~105동)  12  10   \n",
       "1         0  4100190  ...    11700       1             롯데미도파광화문빌딩  12  22   \n",
       "2         0  4100005  ...    11800       1                   킹스매너  12   8   \n",
       "3         0  4100135  ...    11800       1              경희궁의아침2단지  12  14   \n",
       "4         0  4100135  ...    11800       1              경희궁 파크팰리스  12  24   \n",
       "\n",
       "         일련번호    전용면적      지번   지역코드   층  \n",
       "0  11110-2203   94.51       9  11110  11  \n",
       "1    11110-12  149.95     145  11110   8  \n",
       "2   11110-118  194.43  110-15  11110   6  \n",
       "3   11110-115  124.17      71  11110   8  \n",
       "4   11110-107  146.33      95  11110   4  \n",
       "\n",
       "[5 rows x 24 columns]"
      ]
     },
     "execution_count": 11,
     "metadata": {},
     "output_type": "execute_result"
    }
   ],
   "source": [
    "rowList = []\n",
    "nameList = []\n",
    "columnList = []\n",
    "\n",
    "rowsLen = len(rows)\n",
    "for i in range(0, rowsLen):\n",
    "    columns = rows[i].find_all()\n",
    "    \n",
    "    columnsLen = len(columns)\n",
    "    for j in range(0, columnsLen):\n",
    "        \n",
    "        #### Column Name 만들기\n",
    "        # 첫 번째 행 데이터 값 수집 시에만 컬럼 값을 저장한다. (데이터 형태는 동일하므로)\n",
    "        if i == 0:\n",
    "            nameList.append(columns[j].name)\n",
    "            \n",
    "        #### Column 별 data 수집하기 (Row 데이터 생성)\n",
    "        eachColumn = columns[j].text # column 내 순서대로 값들 추출\n",
    "        columnList.append(eachColumn) # 추출한 값들을 list 형태로 저장, 다 저장되면 1개 row의 모든 값들 저장 완성\n",
    "    \n",
    "    ### Row 데이터 누적\n",
    "    rowList.append(columnList) # 위에서 완성된 row data를 rowList에 저장하여 1개씩 row 누적 완성\n",
    "    \n",
    "    columnList = []    # 다음 row의 값을 넣기 위해 비워준다. (매우 중요!!)\n",
    "    \n",
    "result = pd.DataFrame(rowList, columns=nameList) # 값 자체가 row로 누적되었고, nameList는 column 명임\n",
    "result.head()"
   ]
  },
  {
   "cell_type": "markdown",
   "metadata": {},
   "source": [
    "## 2. 원하는 지역구 매매 확인"
   ]
  },
  {
   "cell_type": "markdown",
   "metadata": {},
   "source": [
    "* 법정도 코드는 오른쪽에서 다운 받으면 된다. https://www.code.go.kr/index.do"
   ]
  },
  {
   "cell_type": "code",
   "execution_count": 12,
   "metadata": {},
   "outputs": [],
   "source": [
    "rgn_cd = pd.read_csv('region_code.txt', encoding='euc-kr', delimiter='\\t')\n",
    "rgn_nm = '강남구'\n",
    "rgn_nb = rgn_cd.loc[rgn_cd['법정동명'].str.contains(rgn_nm),'법정동코드'].iloc[0, ]\n",
    "rgn_cd_p = str(rgn_nb)[:5]"
   ]
  },
  {
   "cell_type": "code",
   "execution_count": 15,
   "metadata": {
    "scrolled": true
   },
   "outputs": [
    {
     "data": {
      "text/plain": [
       "(193, 24)"
      ]
     },
     "execution_count": 15,
     "metadata": {},
     "output_type": "execute_result"
    }
   ],
   "source": [
    "response = get_data(api_key, rgn_cd_p, '202012')\n",
    "res_df = get_items(response)\n",
    "res_df.shape"
   ]
  },
  {
   "cell_type": "code",
   "execution_count": 21,
   "metadata": {},
   "outputs": [
    {
     "data": {
      "text/html": [
       "<div>\n",
       "<style scoped>\n",
       "    .dataframe tbody tr th:only-of-type {\n",
       "        vertical-align: middle;\n",
       "    }\n",
       "\n",
       "    .dataframe tbody tr th {\n",
       "        vertical-align: top;\n",
       "    }\n",
       "\n",
       "    .dataframe thead th {\n",
       "        text-align: right;\n",
       "    }\n",
       "</style>\n",
       "<table border=\"1\" class=\"dataframe\">\n",
       "  <thead>\n",
       "    <tr style=\"text-align: right;\">\n",
       "      <th></th>\n",
       "      <th>거래금액</th>\n",
       "      <th>건축년도</th>\n",
       "      <th>년</th>\n",
       "      <th>도로명</th>\n",
       "      <th>도로명건물본번호코드</th>\n",
       "      <th>도로명건물부번호코드</th>\n",
       "      <th>도로명시군구코드</th>\n",
       "      <th>도로명일련번호코드</th>\n",
       "      <th>도로명지상지하코드</th>\n",
       "      <th>도로명코드</th>\n",
       "      <th>...</th>\n",
       "      <th>법정동읍면동코드</th>\n",
       "      <th>법정동지번코드</th>\n",
       "      <th>아파트</th>\n",
       "      <th>월</th>\n",
       "      <th>일</th>\n",
       "      <th>일련번호</th>\n",
       "      <th>전용면적</th>\n",
       "      <th>지번</th>\n",
       "      <th>지역코드</th>\n",
       "      <th>층</th>\n",
       "    </tr>\n",
       "  </thead>\n",
       "  <tbody>\n",
       "    <tr>\n",
       "      <th>0</th>\n",
       "      <td>78000</td>\n",
       "      <td>2004</td>\n",
       "      <td>2020</td>\n",
       "      <td>언주로86길</td>\n",
       "      <td>00025</td>\n",
       "      <td>00000</td>\n",
       "      <td>11680</td>\n",
       "      <td>01</td>\n",
       "      <td>0</td>\n",
       "      <td>4166619</td>\n",
       "      <td>...</td>\n",
       "      <td>10100</td>\n",
       "      <td>1</td>\n",
       "      <td>우정에쉐르3</td>\n",
       "      <td>12</td>\n",
       "      <td>1</td>\n",
       "      <td>11680-595</td>\n",
       "      <td>63.670</td>\n",
       "      <td>707-15</td>\n",
       "      <td>11680</td>\n",
       "      <td>4</td>\n",
       "    </tr>\n",
       "    <tr>\n",
       "      <th>1</th>\n",
       "      <td>198000</td>\n",
       "      <td>2009</td>\n",
       "      <td>2020</td>\n",
       "      <td>도곡로43길</td>\n",
       "      <td>00020</td>\n",
       "      <td>00000</td>\n",
       "      <td>11680</td>\n",
       "      <td>01</td>\n",
       "      <td>0</td>\n",
       "      <td>4166233</td>\n",
       "      <td>...</td>\n",
       "      <td>10100</td>\n",
       "      <td>1</td>\n",
       "      <td>래미안그레이튼</td>\n",
       "      <td>12</td>\n",
       "      <td>1</td>\n",
       "      <td>11680-3871</td>\n",
       "      <td>59.970</td>\n",
       "      <td>763-16</td>\n",
       "      <td>11680</td>\n",
       "      <td>8</td>\n",
       "    </tr>\n",
       "    <tr>\n",
       "      <th>2</th>\n",
       "      <td>250000</td>\n",
       "      <td>2005</td>\n",
       "      <td>2020</td>\n",
       "      <td>선릉로69길</td>\n",
       "      <td>00020</td>\n",
       "      <td>00000</td>\n",
       "      <td>11680</td>\n",
       "      <td>01</td>\n",
       "      <td>0</td>\n",
       "      <td>4166489</td>\n",
       "      <td>...</td>\n",
       "      <td>10100</td>\n",
       "      <td>1</td>\n",
       "      <td>e-편한세상</td>\n",
       "      <td>12</td>\n",
       "      <td>2</td>\n",
       "      <td>11680-3622</td>\n",
       "      <td>84.991</td>\n",
       "      <td>755-4</td>\n",
       "      <td>11680</td>\n",
       "      <td>11</td>\n",
       "    </tr>\n",
       "    <tr>\n",
       "      <th>3</th>\n",
       "      <td>252000</td>\n",
       "      <td>2006</td>\n",
       "      <td>2020</td>\n",
       "      <td>역삼로</td>\n",
       "      <td>00306</td>\n",
       "      <td>00000</td>\n",
       "      <td>11680</td>\n",
       "      <td>01</td>\n",
       "      <td>0</td>\n",
       "      <td>3122008</td>\n",
       "      <td>...</td>\n",
       "      <td>10100</td>\n",
       "      <td>1</td>\n",
       "      <td>개나리래미안</td>\n",
       "      <td>12</td>\n",
       "      <td>3</td>\n",
       "      <td>11680-3680</td>\n",
       "      <td>84.930</td>\n",
       "      <td>754</td>\n",
       "      <td>11680</td>\n",
       "      <td>17</td>\n",
       "    </tr>\n",
       "    <tr>\n",
       "      <th>4</th>\n",
       "      <td>37000</td>\n",
       "      <td>2003</td>\n",
       "      <td>2020</td>\n",
       "      <td>테헤란로25길</td>\n",
       "      <td>00058</td>\n",
       "      <td>00000</td>\n",
       "      <td>11680</td>\n",
       "      <td>01</td>\n",
       "      <td>0</td>\n",
       "      <td>4166726</td>\n",
       "      <td>...</td>\n",
       "      <td>10100</td>\n",
       "      <td>1</td>\n",
       "      <td>한양럭스</td>\n",
       "      <td>12</td>\n",
       "      <td>5</td>\n",
       "      <td>11680-488</td>\n",
       "      <td>44.000</td>\n",
       "      <td>628-1</td>\n",
       "      <td>11680</td>\n",
       "      <td>4</td>\n",
       "    </tr>\n",
       "  </tbody>\n",
       "</table>\n",
       "<p>5 rows × 24 columns</p>\n",
       "</div>"
      ],
      "text/plain": [
       "     거래금액  건축년도     년      도로명 도로명건물본번호코드 도로명건물부번호코드 도로명시군구코드 도로명일련번호코드  \\\n",
       "0   78000  2004  2020   언주로86길      00025      00000    11680        01   \n",
       "1  198000  2009  2020   도곡로43길      00020      00000    11680        01   \n",
       "2  250000  2005  2020   선릉로69길      00020      00000    11680        01   \n",
       "3  252000  2006  2020      역삼로      00306      00000    11680        01   \n",
       "4   37000  2003  2020  테헤란로25길      00058      00000    11680        01   \n",
       "\n",
       "  도로명지상지하코드    도로명코드  ... 법정동읍면동코드 법정동지번코드      아파트   월  일        일련번호  \\\n",
       "0         0  4166619  ...    10100       1   우정에쉐르3  12  1   11680-595   \n",
       "1         0  4166233  ...    10100       1  래미안그레이튼  12  1  11680-3871   \n",
       "2         0  4166489  ...    10100       1   e-편한세상  12  2  11680-3622   \n",
       "3         0  3122008  ...    10100       1   개나리래미안  12  3  11680-3680   \n",
       "4         0  4166726  ...    10100       1     한양럭스  12  5   11680-488   \n",
       "\n",
       "     전용면적      지번   지역코드   층  \n",
       "0  63.670  707-15  11680   4  \n",
       "1  59.970  763-16  11680   8  \n",
       "2  84.991   755-4  11680  11  \n",
       "3  84.930     754  11680  17  \n",
       "4  44.000   628-1  11680   4  \n",
       "\n",
       "[5 rows x 24 columns]"
      ]
     },
     "execution_count": 21,
     "metadata": {},
     "output_type": "execute_result"
    }
   ],
   "source": [
    "res_df.head()"
   ]
  },
  {
   "cell_type": "code",
   "execution_count": 19,
   "metadata": {},
   "outputs": [
    {
     "data": {
      "text/plain": [
       "<matplotlib.axes._subplots.AxesSubplot at 0x7f2d027148e0>"
      ]
     },
     "execution_count": 19,
     "metadata": {},
     "output_type": "execute_result"
    },
    {
     "data": {
      "image/png": "[encoded data removed]",
      "text/plain": [
       "<Figure size 432x288 with 1 Axes>"
      ]
     },
     "metadata": {
      "needs_background": "light"
     },
     "output_type": "display_data"
    }
   ],
   "source": [
    "res_df['전용면적'].plot.hist(bins= 100)"
   ]
  },
  {
   "cell_type": "code",
   "execution_count": null,
   "metadata": {},
   "outputs": [],
   "source": [
    "# https://ai-creator.tistory.com/24\n",
    "\n",
    "def get_data(gu_code, base_date):\n",
    "    url =\"http://openapi.molit.go.kr:8081/OpenAPI_ToolInstallPackage/service/rest/RTMSOBJSvc/getRTMSDataSvcAptTrade?\"\n",
    "    service_key = \"<인증키를 입력하세요>\"    \n",
    "    payload = \"LAWD_CD=\" + gu_code + \"&\" + \\\n",
    "              \"DEAL_YMD=\" + base_date + \"&\" + \\\n",
    "              \"serviceKey=\" + service_key + \"&\"\n",
    "\n",
    "    res = requests.get(url + payload)\n",
    "    \n",
    "    return res\n",
    "\n",
    "def get_items(response):\n",
    "    root = ET.fromstring(response.content)\n",
    "    item_list = []\n",
    "    for child in root.find('body').find('items'):\n",
    "        elements = child.findall('*')\n",
    "        data = {}\n",
    "        for element in elements:\n",
    "            tag = element.tag.strip()\n",
    "            text = element.text.strip()\n",
    "            # print tag, text\n",
    "            data[tag] = text\n",
    "        item_list.append(data)  \n",
    "    return item_list"
   ]
  }
 ],
 "metadata": {
  "kernelspec": {
   "display_name": "Python 3",
   "language": "python",
   "name": "python3"
  },
  "language_info": {
   "codemirror_mode": {
    "name": "ipython",
    "version": 3
   },
   "file_extension": ".py",
   "mimetype": "text/x-python",
   "name": "python",
   "nbconvert_exporter": "python",
   "pygments_lexer": "ipython3",
   "version": "3.8.3"
  }
 },
 "nbformat": 4,
 "nbformat_minor": 4
}
