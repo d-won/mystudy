{
 "cells": [
  {
   "cell_type": "code",
   "execution_count": 1,
   "metadata": {},
   "outputs": [],
   "source": [
    "import numpy as np"
   ]
  },
  {
   "cell_type": "markdown",
   "metadata": {},
   "source": [
    "참고사이트\n",
    "1. https://bskyvision.com/573\n",
    "2. https://datascienceschool.net/03%20machine%20learning/20.01%20%ED%9E%88%EB%93%A0%20%EB%A7%88%EC%BD%94%ED%94%84%20%EB%AA%A8%ED%98%95.html\n",
    "3. https://kau-deeperent.tistory.com/85\n",
    "4. https://greatjoy.tistory.com/33"
   ]
  },
  {
   "cell_type": "markdown",
   "metadata": {},
   "source": [
    "* 마코프 체인은 다음과 같은 마코프(Markov) 특성을 가지는 이산시간 확률 프로세스를 말한다.\n",
    "$$ P(C_{t+1} \\mid C_t, \\cdots, C_1) = P(C_{t+1} \\mid C_t) $$\n",
    "* 즉, 미래 상태는 과거 상태에 대해서 독립이고 오직 현재 상태(t)에만 종속된다.\n",
    "* 더 쉽게 말하면 미래가 과거는 어찌됐든 의미없고 오직 현재 상황(t)에만 종속된 다는 것이다."
   ]
  },
  {
   "cell_type": "markdown",
   "metadata": {},
   "source": [
    "* 다음으로, 특정한 상태 i에서 특정한 상태 j로 변할(변이할) 확률은 전이확률행렬(transition probability matrix)에서 (i, j)에 위치하게 된다.\n",
    "* 아래는 현재 기준 n 달 전에 구매했을 때, 이번 달에 구매할 확률이다."
   ]
  },
  {
   "cell_type": "code",
   "execution_count": 46,
   "metadata": {},
   "outputs": [
    {
     "data": {
      "text/plain": [
       "array([[0.8, 0.2, 0. , 0. ],\n",
       "       [0.4, 0. , 0.6, 0. ],\n",
       "       [0.1, 0. , 0. , 0.9],\n",
       "       [0. , 0. , 0. , 1. ]])"
      ]
     },
     "execution_count": 46,
     "metadata": {},
     "output_type": "execute_result"
    }
   ],
   "source": [
    "mc= np.array([[0.8, 0.2, 0, 0], [0.4, 0, 0.6, 0], [0.1, 0,0, 0.9], [0, 0, 0, 1]])\n",
    "mc"
   ]
  },
  {
   "cell_type": "markdown",
   "metadata": {},
   "source": [
    "* 위 행렬 mc에서 mc(1,1)은 한달 전 구매했을 때, 이번 달에 구매할 확률이고, 바로 옆에 있는 mc(1,2)는 한달 전 구매했을 때, 구매하지 않을 확률이다.\n",
    "* 조금 더 예를 들어서, mc(2,1)은 두달 전 구매했을 때, 이번 달에 구매할 확률이고, 두칸 옆에 있는 mc(2,3)은 두달 전 구매했을 때, 구매하지 않을 확률이다.\n",
    "* 조금 햇갈릴 수 있는 point가 상태 j로 변할 확률에 대한 것인데, 주의해서 생각해보면\n",
    "    * 예를 들어, m(n, 2)는 '한달 전 구매했을 때 구매하지 않은 상태'이다. \n",
    "    * 마찬가지로 m(n, 3)은 '두달 전 구매했을 때 구매하지 않은 상태'이다. \n",
    "    * 단순힌 '구매하지 않은 상태'가 아니라는 이야기"
   ]
  },
  {
   "cell_type": "markdown",
   "metadata": {},
   "source": [
    "* 이런 전이확률행렬이 있다고 했을 때, n 시간 후의 상태는 어떨까?\n",
    "* 위 사례는 조금 어려울 수 있으니 간소화 해서 아래 예제를 보자\n",
    "    * 현재 주차에서 다음 주차에\n",
    "    * 코카에서 코카로 이동할 확률은 0.8, 코카에서 펩시로 이동할 확률 0.2\n",
    "    * 펩시에서 코카로 이동할 확률은 0.3, 펩시에서 펩시로 이동활 확률 0.7"
   ]
  },
  {
   "cell_type": "code",
   "execution_count": 48,
   "metadata": {},
   "outputs": [
    {
     "data": {
      "text/plain": [
       "array([[0.8, 0.2],\n",
       "       [0.3, 0.7]])"
      ]
     },
     "execution_count": 48,
     "metadata": {},
     "output_type": "execute_result"
    }
   ],
   "source": [
    "cope = np.array([[0.8, 0.2],[0.3, 0.7]])\n",
    "cope"
   ]
  },
  {
   "cell_type": "markdown",
   "metadata": {},
   "source": [
    "* 여기에서 코카콜라를 현재 마신 인원이 10억명이고, 펩시를 마신 인원이 8억이라면\n",
    "* 다음 주에 코카콜라와 펩시는 몇명이나 마시고 잇을까?\n",
    "    * 코카 → 코카 + 펩시 → 코카 = 10 * 0.8 + 8 * 0.3 = 10.4\n",
    "    * 코카 → 펩시 + 펩시 → 펩시 = 10 * 0.2 + 8 * 0.7 = 7.6\n",
    "* 결국, 행렬 곱으로 표현 가능"
   ]
  },
  {
   "cell_type": "code",
   "execution_count": 53,
   "metadata": {},
   "outputs": [
    {
     "data": {
      "text/plain": [
       "array([10.4,  7.6])"
      ]
     },
     "execution_count": 53,
     "metadata": {},
     "output_type": "execute_result"
    }
   ],
   "source": [
    "cope_1 = np.array([10, 8]) @ cope\n",
    "cope_1"
   ]
  },
  {
   "cell_type": "markdown",
   "metadata": {},
   "source": [
    "* 이게 n주후에 어떻게 되는 지 보려면 어떻게 해야 할까?\n",
    "* 여기에서 우리는 마코프 가정상 미래는 (t+1) 오직, 현재 (t)에만 의존한다는 것을 안다. \n",
    "* 그러면, 여기서 예를 들어 2주후 상황은? 1주후 결과치에 또 한번 전이확률해렬을 곱한 것이다."
   ]
  },
  {
   "cell_type": "code",
   "execution_count": 52,
   "metadata": {},
   "outputs": [
    {
     "data": {
      "text/plain": [
       "array([10.6,  7.4])"
      ]
     },
     "execution_count": 52,
     "metadata": {},
     "output_type": "execute_result"
    }
   ],
   "source": [
    "cope_2 = cope_1 @ cope\n",
    "cope_2"
   ]
  },
  {
   "cell_type": "markdown",
   "metadata": {},
   "source": [
    "* 그런데, 여기서 생각해보면 결국, n 주후 상태는? 결국 전이확률행렬을 n번 제곱한 것"
   ]
  },
  {
   "cell_type": "code",
   "execution_count": 59,
   "metadata": {},
   "outputs": [
    {
     "data": {
      "text/plain": [
       "array([10.6,  7.4])"
      ]
     },
     "execution_count": 59,
     "metadata": {},
     "output_type": "execute_result"
    }
   ],
   "source": [
    "cope_21 = np.array([10, 8]) @ cope @ cope\n",
    "cope_21"
   ]
  },
  {
   "cell_type": "markdown",
   "metadata": {},
   "source": [
    "* 넘파이 행렬의 거듭제곱은 아래 처럼 실행 가능"
   ]
  },
  {
   "cell_type": "code",
   "execution_count": 90,
   "metadata": {},
   "outputs": [
    {
     "data": {
      "text/plain": [
       "array([[0.7 , 0.3 ],\n",
       "       [0.45, 0.55]])"
      ]
     },
     "execution_count": 90,
     "metadata": {},
     "output_type": "execute_result"
    }
   ],
   "source": [
    "np.linalg.matrix_power(cope, 2)"
   ]
  },
  {
   "cell_type": "code",
   "execution_count": 91,
   "metadata": {},
   "outputs": [
    {
     "data": {
      "text/plain": [
       "array([[0.7 , 0.3 ],\n",
       "       [0.45, 0.55]])"
      ]
     },
     "execution_count": 91,
     "metadata": {},
     "output_type": "execute_result"
    }
   ],
   "source": [
    "cope @ cope"
   ]
  },
  {
   "cell_type": "markdown",
   "metadata": {},
   "source": [
    "* 이제 우리가 위에서 했던 것을 다시 해본다면\n",
    "* 우리가 구매에 대한 전이확률행렬을 갖고 있을 때, 비용은 5이고 매출은 100 그리고 할인율은 0.01%라고 한다면\n",
    "* n 시점 이후 고객의 LTV는 어떻게 계산될까?"
   ]
  },
  {
   "cell_type": "code",
   "execution_count": 4,
   "metadata": {},
   "outputs": [],
   "source": [
    "r = 100\n",
    "c = 5\n",
    "d_rate = 0.001"
   ]
  },
  {
   "cell_type": "markdown",
   "metadata": {},
   "source": [
    "* 먼저, 현재 고객 상태가 아래와 같다고 해보자. \n",
    "    1. 첫번째 행은 이번 달 구매\n",
    "    2. 두번째 행은 이전 달 구매 안 한 경우, 세번째 행은 2달간 구매 안 한 경우,/\n",
    "    3. 네번째 행은 3달간 구매 안해서 비용도 나가지 않은 경우"
    "* 이렇게 될 경우, 곱해질때마다 각 행별로 각행의 상태에 맞는 기대값들이 산출된다. 그리고 이걸 시간대별로 지속 구한다음 더해주면 각 행 상태별 기간동안의 LTV 산출"
   ]
  },
  {
   "cell_type": "code",
   "execution_count": 93,
   "metadata": {},
   "outputs": [
    {
     "data": {
      "text/plain": [
       "array([[95],\n",
       "       [-5],\n",
       "       [-5],\n",
       "       [ 0]])"
      ]
     },
     "execution_count": 93,
     "metadata": {},
     "output_type": "execute_result"
    }
   ],
   "source": [
    "g = np.array([[r-c], [-c], [-c], [0]])\n",
    "g"
   ]
  },
  {
   "cell_type": "code",
   "execution_count": 101,
   "metadata": {},
   "outputs": [
    {
     "name": "stdout",
     "output_type": "stream",
     "text": [
      "1\n",
      "2\n",
      "3\n"
     ]
    },
    {
     "data": {
      "text/plain": [
       "array([[202.55176891],\n",
       "       [101.90182944],\n",
       "       [ 23.67912757],\n",
       "       [  0.        ]])"
      ]
     },
     "execution_count": 101,
     "metadata": {},
     "output_type": "execute_result"
    }
   ],
   "source": [
    "t=3\n",
    "res = np.zeros((4, 1))\n",
    "for i in range(1, t+1):\n",
    "    print(i)\n",
    "    sum_temp = (1/((1+d_rate)**(i-1)))* (np.linalg.matrix_power(mc, i) @ g)\n",
    "    res += sum_temp\n",
    "res"
   ]
  }
 ],
 "metadata": {
  "kernelspec": {
   "display_name": "Python 3",
   "language": "python",
   "name": "python3"
  },
  "language_info": {
   "codemirror_mode": {
    "name": "ipython",
    "version": 3
   },
   "file_extension": ".py",
   "mimetype": "text/x-python",
   "name": "python",
   "nbconvert_exporter": "python",
   "pygments_lexer": "ipython3",
   "version": "3.8.3"
  }
 },
 "nbformat": 4,
 "nbformat_minor": 4
}
