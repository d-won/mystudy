{
 "cells": [
  {
   "cell_type": "markdown",
   "metadata": {},
   "source": [
    "https://greendreamtrre.tistory.com/268"
   ]
  },
  {
   "cell_type": "markdown",
   "metadata": {},
   "source": [
    "* 기본 url 존재: 상세 page에서 확인\n",
    "* 해당 기본 url에 '필수 요청사항'들을 더하여 request url 완성\n",
    "* 필수 요청사항 및 상세사항은 상세 문서 확인 필요"
   ]
  },
  {
   "cell_type": "code",
   "execution_count": 5,
   "metadata": {},
   "outputs": [],
   "source": [
    "import requests, bs4\n",
    "import pandas as pd\n",
    "from lxml import html\n",
    "from urllib.request import Request, urlopen\n",
    "from urllib.parse import urlencode, quote_plus, unquote"
   ]
  },
  {
   "cell_type": "code",
   "execution_count": 6,
   "metadata": {},
   "outputs": [],
   "source": [
    "def get_data(api_key_p, rgn_cd_p, date_p) :\n",
    "    queryParams = '?' + urlencode(    # get 방식으로 쿼리를 분리하기 위해 '?'를 넣은 것이다. 메타코드 아님.\n",
    "        {\n",
    "            quote_plus('ServiceKey') : api_key_p,    # 필수 항목 1 : 서비스키 (본인의 서비스키)\n",
    "            quote_plus('LAWD_CD') : rgn_cd_p,          # 필수 항목 2 : 지역코드 (법정코드목록조회에서 확인)\n",
    "            quote_plus('DEAL_YMD') : date_p,        # 픽수 항목 3 : 계약월\n",
    "            quote_plus('numOfRows') : '9999'\n",
    "         }\n",
    "    )\n",
    "\n",
    "    response = requests.get(xmlUrl + queryParams).text.encode('utf-8')\n",
    "    \n",
    "    return response\n",
    "\n",
    "def get_items(reponse) : \n",
    "    xmlobj = bs4.BeautifulSoup(response, 'lxml-xml')\n",
    "    rows = xmlobj.findAll('item')\n",
    "\n",
    "    rowList = []\n",
    "    nameList = []\n",
    "    columnList = {}\n",
    "    rowsLen = len(rows)\n",
    "    \n",
    "    for i in range(rowsLen):\n",
    "        columns = rows[i].find_all()\n",
    "\n",
    "        columnsLen = len(columns)\n",
    "        for j in range(0, columnsLen):\n",
    "\n",
    "            #### 1. Column Name 만들기\n",
    "            columnList[columns[j].name] =  columns[j].text\n",
    "\n",
    "            #### 2. Column 별 data 수집하기 (Row 데이터 생성)\n",
    "            #eachColumn = columns[j].text # column 내 순서대로 값들 추출\n",
    "            #columnList.append(eachColumn) # 추출한 값들을 list 형태로 저장, 다 저장되면 1개 row의 모든 값들 저장 완성\n",
    "\n",
    "        #### 3. Row 데이터 누적\n",
    "        rowList.append(columnList) # 위에서 완성된 row data를 rowList에 저장하여 1개씩 row 누적 완성\n",
    "\n",
    "        columnList = {}\n",
    "\n",
    "    result = pd.DataFrame(rowList)\n",
    "    int_col = ['거래금액', '건축년도', '년', '전용면적', '월', '일', '층']\n",
    "    \n",
    "    for i in int_col :\n",
    "        result[i] = pd.to_numeric(result[i].str.replace(',',''))\n",
    "    \n",
    "    return result"
   ]
  },
  {
   "cell_type": "markdown",
   "metadata": {},
   "source": [
    "## 1. API를 통해 데이터 다운로드하는 법"
   ]
  },
  {
   "cell_type": "code",
   "execution_count": 7,
   "metadata": {},
   "outputs": [],
   "source": [
    "xmlUrl = 'http://openapi.molit.go.kr/OpenAPI_ToolInstallPackage/service/rest/RTMSOBJSvc/getRTMSDataSvcAptTradeDev'\n",
    "api_key = unquote('')"
   ]
  },
  {
   "cell_type": "code",
   "execution_count": 8,
   "metadata": {},
   "outputs": [],
   "source": [
    "############# 필수 항목은 공공데이터 상세설명 -> 상세기능 -> 요청변수 중 '필수' 항목\n",
    "\n",
    "queryParams = '?' + urlencode(    # get 방식으로 쿼리를 분리하기 위해 '?'를 넣은 것이다. 메타코드 아님.\n",
    "    {\n",
    "        quote_plus('ServiceKey') : api_key,    # 필수 항목 1 : 서비스키 (본인의 서비스키)\n",
    "        quote_plus('LAWD_CD') : '11110',          # 필수 항목 2 : 지역코드 (법정코드목록조회에서 확인)\n",
    "        quote_plus('DEAL_YMD') : '201512'         # 픽수 항목 3 : 계약월\n",
    "     }\n",
    ")"
   ]
  },
  {
   "cell_type": "code",
   "execution_count": 9,
   "metadata": {},
   "outputs": [],
   "source": [
    "# ## Decode 후 과정\n",
    "# api_key_decode = requests.utils.unquote(My_API_Key)\n",
    "# parameters = {'ServiceKey' : api_key_decode, 'LAWD_CD' :'11110', 'DEAL_YMD':'201512'}\n",
    "# req = requests.get(xmlUrl, params = parameters)\n",
    "# req.text"
   ]
  },
  {
   "cell_type": "code",
   "execution_count": 10,
   "metadata": {},
   "outputs": [],
   "source": [
    "response = requests.get(xmlUrl + queryParams).text.encode('utf-8')\n",
    "xmlobj = bs4.BeautifulSoup(response, 'lxml-xml')\n",
    "# xmlobj    # 디버깅용."
   ]
  },
  {
   "cell_type": "code",
   "execution_count": 11,
   "metadata": {},
   "outputs": [
    {
     "ename": "IndexError",
     "evalue": "list index out of range",
     "output_type": "error",
     "traceback": [
      "\u001b[0;31m---------------------------------------------------------------------------\u001b[0m",
      "\u001b[0;31mIndexError\u001b[0m                                Traceback (most recent call last)",
      "\u001b[0;32m<ipython-input-11-2289f5dc95f8>\u001b[0m in \u001b[0;36m<module>\u001b[0;34m\u001b[0m\n\u001b[1;32m      1\u001b[0m \u001b[0mrows\u001b[0m \u001b[0;34m=\u001b[0m \u001b[0mxmlobj\u001b[0m\u001b[0;34m.\u001b[0m\u001b[0mfindAll\u001b[0m\u001b[0;34m(\u001b[0m\u001b[0;34m'item'\u001b[0m\u001b[0;34m)\u001b[0m \u001b[0;31m# 전체 item 데이터 보유\u001b[0m\u001b[0;34m\u001b[0m\u001b[0;34m\u001b[0m\u001b[0m\n\u001b[0;32m----> 2\u001b[0;31m \u001b[0mcolumns\u001b[0m \u001b[0;34m=\u001b[0m \u001b[0mrows\u001b[0m\u001b[0;34m[\u001b[0m\u001b[0;36m0\u001b[0m\u001b[0;34m]\u001b[0m\u001b[0;34m.\u001b[0m\u001b[0mfind_all\u001b[0m\u001b[0;34m(\u001b[0m\u001b[0;34m)\u001b[0m \u001b[0;31m# 1개 item의 데이터\u001b[0m\u001b[0;34m\u001b[0m\u001b[0;34m\u001b[0m\u001b[0m\n\u001b[0m\u001b[1;32m      3\u001b[0m \u001b[0mcolumns\u001b[0m\u001b[0;34m[\u001b[0m\u001b[0;36m0\u001b[0m\u001b[0;34m]\u001b[0m\u001b[0;34m.\u001b[0m\u001b[0mname\u001b[0m\u001b[0;34m,\u001b[0m \u001b[0mcolumns\u001b[0m\u001b[0;34m[\u001b[0m\u001b[0;36m0\u001b[0m\u001b[0;34m]\u001b[0m\u001b[0;34m.\u001b[0m\u001b[0mtext\u001b[0m \u001b[0;31m# 첫번째 item의 name, text 추출\u001b[0m\u001b[0;34m\u001b[0m\u001b[0;34m\u001b[0m\u001b[0m\n",
      "\u001b[0;31mIndexError\u001b[0m: list index out of range"
     ]
    }
   ],
   "source": [
    "rows = xmlobj.findAll('item') # 전체 item 데이터 보유\n",
    "columns = rows[0].find_all() # 1개 item의 데이터\n",
    "columns[0].name, columns[0].text # 첫번째 item의 name, text 추출"
   ]
  },
  {
   "cell_type": "code",
   "execution_count": null,
   "metadata": {},
   "outputs": [],
   "source": [
    "rows[:3]"
   ]
  },
  {
   "cell_type": "code",
   "execution_count": null,
   "metadata": {},
   "outputs": [],
   "source": [
    "columns"
   ]
  },
  {
   "cell_type": "code",
   "execution_count": null,
   "metadata": {},
   "outputs": [],
   "source": [
    "columns[0].name, columns[0].text"
   ]
  },
  {
   "cell_type": "code",
   "execution_count": null,
   "metadata": {},
   "outputs": [],
   "source": [
    "rowList = []\n",
    "nameList = []\n",
    "columnList = []\n",
    "\n",
    "rowsLen = len(rows)\n",
    "for i in range(0, rowsLen):\n",
    "    columns = rows[i].find_all()\n",
    "    \n",
    "    columnsLen = len(columns)\n",
    "    for j in range(0, columnsLen):\n",
    "        \n",
    "        #### Column Name 만들기\n",
    "        # 첫 번째 행 데이터 값 수집 시에만 컬럼 값을 저장한다. (데이터 형태는 동일하므로)\n",
    "        if i == 0:\n",
    "            nameList.append(columns[j].name)\n",
    "            \n",
    "        #### Column 별 data 수집하기 (Row 데이터 생성)\n",
    "        eachColumn = columns[j].text # column 내 순서대로 값들 추출\n",
    "        columnList.append(eachColumn) # 추출한 값들을 list 형태로 저장, 다 저장되면 1개 row의 모든 값들 저장 완성\n",
    "    \n",
    "    ### Row 데이터 누적\n",
    "    rowList.append(columnList) # 위에서 완성된 row data를 rowList에 저장하여 1개씩 row 누적 완성\n",
    "    \n",
    "    columnList = []    # 다음 row의 값을 넣기 위해 비워준다. (매우 중요!!)\n",
    "    \n",
    "result = pd.DataFrame(rowList, columns=nameList) # 값 자체가 row로 누적되었고, nameList는 column 명임\n",
    "result.head()"
   ]
  },
  {
   "cell_type": "markdown",
   "metadata": {},
   "source": [
    "## 2. 원하는 지역구 매매 확인"
   ]
  },
  {
   "cell_type": "markdown",
   "metadata": {},
   "source": [
    "* 법정도 코드는 오른쪽에서 다운 받으면 된다. https://www.code.go.kr/index.do"
   ]
  },
  {
   "cell_type": "code",
   "execution_count": null,
   "metadata": {},
   "outputs": [],
   "source": [
    "rgn_cd = pd.read_csv('region_code.txt', encoding='euc-kr', delimiter='\\t')\n",
    "rgn_nm = '강남구'\n",
    "rgn_nb = rgn_cd.loc[rgn_cd['법정동명'].str.contains(rgn_nm),'법정동코드'].iloc[0, ]\n",
    "rgn_cd_p = str(rgn_nb)[:5]"
   ]
  },
  {
   "cell_type": "code",
   "execution_count": null,
   "metadata": {
    "scrolled": true
   },
   "outputs": [],
   "source": [
    "response = get_data(api_key, rgn_cd_p, '202012')\n",
    "res_df = get_items(response)\n",
    "res_df.shape"
   ]
  },
  {
   "cell_type": "code",
   "execution_count": null,
   "metadata": {},
   "outputs": [],
   "source": [
    "res_df.head()"
   ]
  },
  {
   "cell_type": "code",
   "execution_count": null,
   "metadata": {},
   "outputs": [],
   "source": [
    "res_df['전용면적'].plot.hist(bins= 100)"
   ]
  },
  {
   "cell_type": "code",
   "execution_count": null,
   "metadata": {},
   "outputs": [],
   "source": [
    "# https://ai-creator.tistory.com/24\n",
    "\n",
    "def get_data(gu_code, base_date):\n",
    "    url =\"http://openapi.molit.go.kr:8081/OpenAPI_ToolInstallPackage/service/rest/RTMSOBJSvc/getRTMSDataSvcAptTrade?\"\n",
    "    service_key = \"<인증키를 입력하세요>\"    \n",
    "    payload = \"LAWD_CD=\" + gu_code + \"&\" + \\\n",
    "              \"DEAL_YMD=\" + base_date + \"&\" + \\\n",
    "              \"serviceKey=\" + service_key + \"&\"\n",
    "\n",
    "    res = requests.get(url + payload)\n",
    "    \n",
    "    return res\n",
    "\n",
    "def get_items(response):\n",
    "    root = ET.fromstring(response.content)\n",
    "    item_list = []\n",
    "    for child in root.find('body').find('items'):\n",
    "        elements = child.findall('*')\n",
    "        data = {}\n",
    "        for element in elements:\n",
    "            tag = element.tag.strip()\n",
    "            text = element.text.strip()\n",
    "            # print tag, text\n",
    "            data[tag] = text\n",
    "        item_list.append(data)  \n",
    "    return item_list"
   ]
  }
 ],
 "metadata": {
  "kernelspec": {
   "display_name": "Python 3",
   "language": "python",
   "name": "python3"
  },
  "language_info": {
   "codemirror_mode": {
    "name": "ipython",
    "version": 3
   },
   "file_extension": ".py",
   "mimetype": "text/x-python",
   "name": "python",
   "nbconvert_exporter": "python",
   "pygments_lexer": "ipython3",
   "version": "3.8.3"
  }
 },
 "nbformat": 4,
 "nbformat_minor": 4
}
