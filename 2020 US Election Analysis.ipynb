{
 "cells": [
  {
   "cell_type": "markdown",
   "metadata": {},
   "source": [
    "# 1. 분석 주제"
   ]
  },
  {
   "cell_type": "markdown",
   "metadata": {},
   "source": [
    "### 1) 분석 배경"
   ]
  },
  {
   "cell_type": "markdown",
   "metadata": {},
   "source": [
    "* 금번 2020 미국 대선에서 모든 언론은 바이든의 압승을 예상했음\n",
    "* Shy Trump에 대한 우려도 존재했으나, 2016년 대선 예측 실패를 교훈 삼아 보정했다는 의견이 다수\n",
    "* But, 그럼에도 불구하고 바이든 당선인의 승리는 압승이 아닌 신승에 가까웠음\n",
    "* 개인 프로젝트에서 어떤 부분에서 언론사 예측에서 문제가 있었는 지 파악하고자 함"
   ]
  },
  {
   "cell_type": "markdown",
   "metadata": {},
   "source": [
    "### 2) 분석 방법"
   ]
  },
  {
   "cell_type": "markdown",
   "metadata": {},
   "source": [
    "* 고민 중 (일단, 마음가는대로)\n",
    "* 향후 인구 구성 및 경제 수준 관련 자료를 가지고 추가 분석 필요\n",
    "* 예측 데이터는 fivethirtyeight 데이터 참고 (https://data.fivethirtyeight.com/)"
   ]
  },
  {
   "cell_type": "markdown",
   "metadata": {},
   "source": [
    "# 2. 데이터 분석"
   ]
  },
  {
   "cell_type": "markdown",
   "metadata": {},
   "source": [
    "### 1) Import Library"
   ]
  },
  {
   "cell_type": "code",
   "execution_count": 1,
   "metadata": {},
   "outputs": [],
   "source": [
    "import csv\n",
    "from urllib.request import urlopen\n",
    "from bs4 import BeautifulSoup\n",
    "import requests\n",
    "import re\n",
    "import os, sys\n",
    "\n",
    "import pandas as pd\n",
    "import numpy as np\n",
    "import matplotlib.pyplot as plt\n",
    "import seaborn as sns\n",
    "\n",
    "%matplotlib inline"
   ]
  },
  {
   "cell_type": "code",
   "execution_count": 2,
   "metadata": {},
   "outputs": [],
   "source": [
    "def mean_absolute_percent_error(y_true, y_pred) :\n",
    "    return np.mean(np.abs((y_true - y_pred)/y_true))\n",
    "\n",
    "def mean_percent_error(y_true, y_pred) :\n",
    "    return np.mean((y_true-y_pred)/y_true)"
   ]
  },
  {
   "cell_type": "markdown",
   "metadata": {},
   "source": [
    "### 2) Load forecast data (from FiveThirtyEight)"
   ]
  },
  {
   "cell_type": "code",
   "execution_count": 3,
   "metadata": {},
   "outputs": [
    {
     "name": "stdout",
     "output_type": "stream",
     "text": [
      "economic_index.csv\n",
      "electoral_college_vs_popvote.csv\n",
      "house_district_toplines_2020.csv\n",
      "house_fundamentals.csv\n",
      "house_national_toplines_2020.csv\n",
      "house_seat_distribution.csv\n",
      "house_steps.csv\n",
      "joint_probabilities.csv\n",
      "presidential_ev_probabilities_2020.csv\n",
      "presidential_forecast_steps.csv\n",
      "presidential_national_toplines_2020.csv\n",
      "presidential_polls_2020.csv\n",
      "presidential_poll_averages_2020.csv\n",
      "presidential_scenario_analysis_2020.csv\n",
      "presidential_state_toplines_2020.csv\n",
      "README.md\n",
      "senate_fundamentals.csv\n",
      "senate_national_toplines_2020.csv\n",
      "senate_seat_distribution.csv\n",
      "senate_state_toplines_2020.csv\n",
      "senate_steps.csv\n"
     ]
    }
   ],
   "source": [
    "base_dir = os.getcwd()\n",
    "election_dir = os.path.join(base_dir,'election-forecasts-2020')\n",
    "for i in os.listdir(election_dir) :\n",
    "    print(i)"
   ]
  },
  {
   "cell_type": "code",
   "execution_count": 4,
   "metadata": {},
   "outputs": [
    {
     "data": {
      "text/html": [
       "<div>\n",
       "<style scoped>\n",
       "    .dataframe tbody tr th:only-of-type {\n",
       "        vertical-align: middle;\n",
       "    }\n",
       "\n",
       "    .dataframe tbody tr th {\n",
       "        vertical-align: top;\n",
       "    }\n",
       "\n",
       "    .dataframe thead th {\n",
       "        text-align: right;\n",
       "    }\n",
       "</style>\n",
       "<table border=\"1\" class=\"dataframe\">\n",
       "  <thead>\n",
       "    <tr style=\"text-align: right;\">\n",
       "      <th></th>\n",
       "      <th>cycle</th>\n",
       "      <th>branch</th>\n",
       "      <th>model</th>\n",
       "      <th>modeldate</th>\n",
       "      <th>candidate_inc</th>\n",
       "      <th>candidate_chal</th>\n",
       "      <th>candidate_3rd</th>\n",
       "      <th>state</th>\n",
       "      <th>tipping</th>\n",
       "      <th>vpi</th>\n",
       "      <th>...</th>\n",
       "      <th>margin_lo</th>\n",
       "      <th>win_EC_if_win_state_inc</th>\n",
       "      <th>win_EC_if_win_state_chal</th>\n",
       "      <th>win_state_if_win_EC_inc</th>\n",
       "      <th>win_state_if_win_EC_chal</th>\n",
       "      <th>state_turnout</th>\n",
       "      <th>state_turnout_hi</th>\n",
       "      <th>state_turnout_lo</th>\n",
       "      <th>timestamp</th>\n",
       "      <th>simulations</th>\n",
       "    </tr>\n",
       "  </thead>\n",
       "  <tbody>\n",
       "    <tr>\n",
       "      <td>0</td>\n",
       "      <td>2020</td>\n",
       "      <td>President</td>\n",
       "      <td>polls-plus</td>\n",
       "      <td>11/3/2020</td>\n",
       "      <td>Trump</td>\n",
       "      <td>Biden</td>\n",
       "      <td>NaN</td>\n",
       "      <td>Wyoming</td>\n",
       "      <td>0.000000</td>\n",
       "      <td>0.000000</td>\n",
       "      <td>...</td>\n",
       "      <td>24.50582</td>\n",
       "      <td>0.104044</td>\n",
       "      <td>0.984615</td>\n",
       "      <td>0.999759</td>\n",
       "      <td>0.001795</td>\n",
       "      <td>274642.0</td>\n",
       "      <td>319577.0</td>\n",
       "      <td>231459.0</td>\n",
       "      <td>00:00:48  3 Nov 2020</td>\n",
       "      <td>40000</td>\n",
       "    </tr>\n",
       "    <tr>\n",
       "      <td>1</td>\n",
       "      <td>2020</td>\n",
       "      <td>President</td>\n",
       "      <td>polls-plus</td>\n",
       "      <td>11/3/2020</td>\n",
       "      <td>Trump</td>\n",
       "      <td>Biden</td>\n",
       "      <td>NaN</td>\n",
       "      <td>Wisconsin</td>\n",
       "      <td>0.053137</td>\n",
       "      <td>2.543351</td>\n",
       "      <td>...</td>\n",
       "      <td>-14.89797</td>\n",
       "      <td>0.771821</td>\n",
       "      <td>0.931934</td>\n",
       "      <td>0.419153</td>\n",
       "      <td>0.986261</td>\n",
       "      <td>3325739.0</td>\n",
       "      <td>3748885.0</td>\n",
       "      <td>2908762.0</td>\n",
       "      <td>00:00:48  3 Nov 2020</td>\n",
       "      <td>40000</td>\n",
       "    </tr>\n",
       "    <tr>\n",
       "      <td>2</td>\n",
       "      <td>2020</td>\n",
       "      <td>President</td>\n",
       "      <td>polls-plus</td>\n",
       "      <td>11/3/2020</td>\n",
       "      <td>Trump</td>\n",
       "      <td>Biden</td>\n",
       "      <td>NaN</td>\n",
       "      <td>West Virginia</td>\n",
       "      <td>0.000063</td>\n",
       "      <td>0.015240</td>\n",
       "      <td>...</td>\n",
       "      <td>18.01854</td>\n",
       "      <td>0.104550</td>\n",
       "      <td>0.986063</td>\n",
       "      <td>0.999038</td>\n",
       "      <td>0.007935</td>\n",
       "      <td>749616.0</td>\n",
       "      <td>868161.0</td>\n",
       "      <td>635685.0</td>\n",
       "      <td>00:00:48  3 Nov 2020</td>\n",
       "      <td>40000</td>\n",
       "    </tr>\n",
       "    <tr>\n",
       "      <td>3</td>\n",
       "      <td>2020</td>\n",
       "      <td>President</td>\n",
       "      <td>polls-plus</td>\n",
       "      <td>11/3/2020</td>\n",
       "      <td>Trump</td>\n",
       "      <td>Biden</td>\n",
       "      <td>NaN</td>\n",
       "      <td>Washington</td>\n",
       "      <td>0.002288</td>\n",
       "      <td>0.082997</td>\n",
       "      <td>...</td>\n",
       "      <td>-34.12025</td>\n",
       "      <td>0.263314</td>\n",
       "      <td>0.892971</td>\n",
       "      <td>0.021415</td>\n",
       "      <td>0.993074</td>\n",
       "      <td>4429891.0</td>\n",
       "      <td>5013615.0</td>\n",
       "      <td>3857496.0</td>\n",
       "      <td>00:00:48  3 Nov 2020</td>\n",
       "      <td>40000</td>\n",
       "    </tr>\n",
       "    <tr>\n",
       "      <td>4</td>\n",
       "      <td>2020</td>\n",
       "      <td>President</td>\n",
       "      <td>polls-plus</td>\n",
       "      <td>11/3/2020</td>\n",
       "      <td>Trump</td>\n",
       "      <td>Biden</td>\n",
       "      <td>NaN</td>\n",
       "      <td>Virginia</td>\n",
       "      <td>0.009850</td>\n",
       "      <td>0.341279</td>\n",
       "      <td>...</td>\n",
       "      <td>-18.56248</td>\n",
       "      <td>0.767263</td>\n",
       "      <td>0.898129</td>\n",
       "      <td>0.072185</td>\n",
       "      <td>0.997476</td>\n",
       "      <td>4599938.0</td>\n",
       "      <td>5189515.0</td>\n",
       "      <td>4020238.0</td>\n",
       "      <td>00:00:48  3 Nov 2020</td>\n",
       "      <td>40000</td>\n",
       "    </tr>\n",
       "  </tbody>\n",
       "</table>\n",
       "<p>5 rows × 37 columns</p>\n",
       "</div>"
      ],
      "text/plain": [
       "   cycle     branch       model  modeldate candidate_inc candidate_chal  \\\n",
       "0   2020  President  polls-plus  11/3/2020         Trump          Biden   \n",
       "1   2020  President  polls-plus  11/3/2020         Trump          Biden   \n",
       "2   2020  President  polls-plus  11/3/2020         Trump          Biden   \n",
       "3   2020  President  polls-plus  11/3/2020         Trump          Biden   \n",
       "4   2020  President  polls-plus  11/3/2020         Trump          Biden   \n",
       "\n",
       "   candidate_3rd          state   tipping       vpi  ...  margin_lo  \\\n",
       "0            NaN        Wyoming  0.000000  0.000000  ...   24.50582   \n",
       "1            NaN      Wisconsin  0.053137  2.543351  ...  -14.89797   \n",
       "2            NaN  West Virginia  0.000063  0.015240  ...   18.01854   \n",
       "3            NaN     Washington  0.002288  0.082997  ...  -34.12025   \n",
       "4            NaN       Virginia  0.009850  0.341279  ...  -18.56248   \n",
       "\n",
       "   win_EC_if_win_state_inc  win_EC_if_win_state_chal  win_state_if_win_EC_inc  \\\n",
       "0                 0.104044                  0.984615                 0.999759   \n",
       "1                 0.771821                  0.931934                 0.419153   \n",
       "2                 0.104550                  0.986063                 0.999038   \n",
       "3                 0.263314                  0.892971                 0.021415   \n",
       "4                 0.767263                  0.898129                 0.072185   \n",
       "\n",
       "   win_state_if_win_EC_chal  state_turnout  state_turnout_hi  \\\n",
       "0                  0.001795       274642.0          319577.0   \n",
       "1                  0.986261      3325739.0         3748885.0   \n",
       "2                  0.007935       749616.0          868161.0   \n",
       "3                  0.993074      4429891.0         5013615.0   \n",
       "4                  0.997476      4599938.0         5189515.0   \n",
       "\n",
       "   state_turnout_lo             timestamp  simulations  \n",
       "0          231459.0  00:00:48  3 Nov 2020        40000  \n",
       "1         2908762.0  00:00:48  3 Nov 2020        40000  \n",
       "2          635685.0  00:00:48  3 Nov 2020        40000  \n",
       "3         3857496.0  00:00:48  3 Nov 2020        40000  \n",
       "4         4020238.0  00:00:48  3 Nov 2020        40000  \n",
       "\n",
       "[5 rows x 37 columns]"
      ]
     },
     "execution_count": 4,
     "metadata": {},
     "output_type": "execute_result"
    }
   ],
   "source": [
    "df_fcst = pd.read_csv(os.path.join(election_dir, 'presidential_state_toplines_2020.csv'))\n",
    "df_fcst.head()"
   ]
  },
  {
   "cell_type": "code",
   "execution_count": 5,
   "metadata": {},
   "outputs": [],
   "source": [
    "# table pivotting\n",
    "pi_fcst = df_fcst.groupby(['modeldate', 'state'])['voteshare_inc', 'voteshare_chal'].mean().unstack('modeldate')\n",
    "\n",
    "# creat column list\n",
    "col_name = []\n",
    "for i in pi_fcst.columns :\n",
    "    if 'inc' in i[0] :\n",
    "        col_name.append('inc_'+ i[1])\n",
    "    else :\n",
    "        col_name.append('chal_'+ i[1])\n",
    "\n",
    "# column renamming\n",
    "pi_fcst.columns = col_name\n",
    "inc_col = [i for i in col_name if 'inc' in i]\n",
    "chal_col = [i for i in col_name if 'chal' in i]\n",
    "\n",
    "pi_fcst.reset_index(inplace=True)"
   ]
  },
  {
   "cell_type": "markdown",
   "metadata": {},
   "source": [
    "### 3) Election results crawling"
   ]
  },
  {
   "cell_type": "code",
   "execution_count": 6,
   "metadata": {},
   "outputs": [],
   "source": [
    "html = urlopen('https://en.wikipedia.org/wiki/2020_United_States_presidential_election')\n",
    "bs = BeautifulSoup(html, 'html.parser')\n",
    "\n",
    "table = bs.findAll('table', {'class':'wikitable'})[13]\n",
    "rows = table.findAll('tr')"
   ]
  },
  {
   "cell_type": "code",
   "execution_count": 7,
   "metadata": {},
   "outputs": [],
   "source": [
    "# Load election results\n",
    "df = {}\n",
    "\n",
    "#try :\n",
    "colRow = []\n",
    "for n, row in enumerate(rows) :  \n",
    "    csvRow = []\n",
    "    for n2, cell in enumerate(row.findAll(['td', 'th'])) : # td는 table data, th는 table header\n",
    "        if n2 in [0,1,2,4,5] :\n",
    "            csvRow.append(cell.get_text())\n",
    "        else :\n",
    "            pass\n",
    "        #print(csvRow)\n",
    "    #writer.writerow(csvRow)\n",
    "    if n < 2 :\n",
    "        pass\n",
    "    else :\n",
    "        df[str(n)] = csvRow\n",
    "        \n",
    "res_df = pd.DataFrame(df).T\n",
    "real_res = res_df.reset_index().drop('index',1)\\\n",
    ".rename(columns={0:'State', 1:'Biden_Votes', 2:'Biden_%', 3:'Trump_Votes', 4:'Trump_%'}).drop([56, 57], 0)"
   ]
  },
  {
   "cell_type": "code",
   "execution_count": 8,
   "metadata": {},
   "outputs": [
    {
     "data": {
      "text/html": [
       "<div>\n",
       "<style scoped>\n",
       "    .dataframe tbody tr th:only-of-type {\n",
       "        vertical-align: middle;\n",
       "    }\n",
       "\n",
       "    .dataframe tbody tr th {\n",
       "        vertical-align: top;\n",
       "    }\n",
       "\n",
       "    .dataframe thead th {\n",
       "        text-align: right;\n",
       "    }\n",
       "</style>\n",
       "<table border=\"1\" class=\"dataframe\">\n",
       "  <thead>\n",
       "    <tr style=\"text-align: right;\">\n",
       "      <th></th>\n",
       "      <th>State</th>\n",
       "      <th>Biden_Votes</th>\n",
       "      <th>Biden_%</th>\n",
       "      <th>Trump_Votes</th>\n",
       "      <th>Trump_%</th>\n",
       "    </tr>\n",
       "  </thead>\n",
       "  <tbody>\n",
       "    <tr>\n",
       "      <td>0</td>\n",
       "      <td>Ala.</td>\n",
       "      <td>849,624</td>\n",
       "      <td>36.57%</td>\n",
       "      <td>1,441,170</td>\n",
       "      <td>62.03%</td>\n",
       "    </tr>\n",
       "    <tr>\n",
       "      <td>1</td>\n",
       "      <td>Alaska</td>\n",
       "      <td>153,778</td>\n",
       "      <td>42.77%</td>\n",
       "      <td>189,951</td>\n",
       "      <td>52.83%</td>\n",
       "    </tr>\n",
       "    <tr>\n",
       "      <td>2</td>\n",
       "      <td>Ariz.</td>\n",
       "      <td>1,672,143</td>\n",
       "      <td>49.36%</td>\n",
       "      <td>1,661,686</td>\n",
       "      <td>49.06%</td>\n",
       "    </tr>\n",
       "    <tr>\n",
       "      <td>3</td>\n",
       "      <td>Ark.</td>\n",
       "      <td>423,932</td>\n",
       "      <td>34.78%</td>\n",
       "      <td>760,647</td>\n",
       "      <td>62.40%</td>\n",
       "    </tr>\n",
       "    <tr>\n",
       "      <td>4</td>\n",
       "      <td>Calif.</td>\n",
       "      <td>11,110,250</td>\n",
       "      <td>63.48%</td>\n",
       "      <td>6,006,429</td>\n",
       "      <td>34.32%</td>\n",
       "    </tr>\n",
       "  </tbody>\n",
       "</table>\n",
       "</div>"
      ],
      "text/plain": [
       "    State Biden_Votes Biden_% Trump_Votes Trump_%\n",
       "0    Ala.     849,624  36.57%   1,441,170  62.03%\n",
       "1  Alaska     153,778  42.77%     189,951  52.83%\n",
       "2   Ariz.   1,672,143  49.36%   1,661,686  49.06%\n",
       "3    Ark.     423,932  34.78%     760,647  62.40%\n",
       "4  Calif.  11,110,250  63.48%   6,006,429  34.32%"
      ]
     },
     "execution_count": 8,
     "metadata": {},
     "output_type": "execute_result"
    }
   ],
   "source": [
    "real_res.head()"
   ]
  },
  {
   "cell_type": "markdown",
   "metadata": {},
   "source": [
    "### 4) Data Cleansing"
   ]
  },
  {
   "cell_type": "code",
   "execution_count": 9,
   "metadata": {},
   "outputs": [],
   "source": [
    "# Load state's full name\n",
    "\n",
    "table = bs.findAll('table', {'class':'wikitable'})[10]\n",
    "rows = table.findAll('tr')\n",
    "\n",
    "df = {}\n",
    "\n",
    "#try :\n",
    "csvRow = []\n",
    "for n, row in enumerate(rows) :  \n",
    "    for n2, cell in enumerate(row.findAll(['td', 'th'])) : # td는 table data, th는 table header\n",
    "        if n2 in [0] :\n",
    "            csvRow.append(cell.get_text().strip('\\n'))\n",
    "            \n",
    "csvFin = csvRow[2:-1]"
   ]
  },
  {
   "cell_type": "code",
   "execution_count": 10,
   "metadata": {},
   "outputs": [],
   "source": [
    "# change state name\n",
    "real_res['State'] = csvFin"
   ]
  },
  {
   "cell_type": "code",
   "execution_count": 11,
   "metadata": {},
   "outputs": [
    {
     "data": {
      "text/html": [
       "<div>\n",
       "<style scoped>\n",
       "    .dataframe tbody tr th:only-of-type {\n",
       "        vertical-align: middle;\n",
       "    }\n",
       "\n",
       "    .dataframe tbody tr th {\n",
       "        vertical-align: top;\n",
       "    }\n",
       "\n",
       "    .dataframe thead th {\n",
       "        text-align: right;\n",
       "    }\n",
       "</style>\n",
       "<table border=\"1\" class=\"dataframe\">\n",
       "  <thead>\n",
       "    <tr style=\"text-align: right;\">\n",
       "      <th></th>\n",
       "      <th>State</th>\n",
       "      <th>Biden_Votes</th>\n",
       "      <th>Biden_%</th>\n",
       "      <th>Trump_Votes</th>\n",
       "      <th>Trump_%</th>\n",
       "    </tr>\n",
       "  </thead>\n",
       "  <tbody>\n",
       "    <tr>\n",
       "      <td>0</td>\n",
       "      <td>Alabama</td>\n",
       "      <td>849,624</td>\n",
       "      <td>36.57%</td>\n",
       "      <td>1,441,170</td>\n",
       "      <td>62.03%</td>\n",
       "    </tr>\n",
       "    <tr>\n",
       "      <td>1</td>\n",
       "      <td>Alaska</td>\n",
       "      <td>153,778</td>\n",
       "      <td>42.77%</td>\n",
       "      <td>189,951</td>\n",
       "      <td>52.83%</td>\n",
       "    </tr>\n",
       "    <tr>\n",
       "      <td>2</td>\n",
       "      <td>Arizona</td>\n",
       "      <td>1,672,143</td>\n",
       "      <td>49.36%</td>\n",
       "      <td>1,661,686</td>\n",
       "      <td>49.06%</td>\n",
       "    </tr>\n",
       "    <tr>\n",
       "      <td>3</td>\n",
       "      <td>Arkansas</td>\n",
       "      <td>423,932</td>\n",
       "      <td>34.78%</td>\n",
       "      <td>760,647</td>\n",
       "      <td>62.40%</td>\n",
       "    </tr>\n",
       "    <tr>\n",
       "      <td>4</td>\n",
       "      <td>California</td>\n",
       "      <td>11,110,250</td>\n",
       "      <td>63.48%</td>\n",
       "      <td>6,006,429</td>\n",
       "      <td>34.32%</td>\n",
       "    </tr>\n",
       "  </tbody>\n",
       "</table>\n",
       "</div>"
      ],
      "text/plain": [
       "        State Biden_Votes Biden_% Trump_Votes Trump_%\n",
       "0     Alabama     849,624  36.57%   1,441,170  62.03%\n",
       "1      Alaska     153,778  42.77%     189,951  52.83%\n",
       "2     Arizona   1,672,143  49.36%   1,661,686  49.06%\n",
       "3    Arkansas     423,932  34.78%     760,647  62.40%\n",
       "4  California  11,110,250  63.48%   6,006,429  34.32%"
      ]
     },
     "execution_count": 11,
     "metadata": {},
     "output_type": "execute_result"
    }
   ],
   "source": [
    "real_res.head()"
   ]
  },
  {
   "cell_type": "code",
   "execution_count": 12,
   "metadata": {},
   "outputs": [],
   "source": [
    "real_res['Biden_%'] = real_res['Biden_%'].apply(lambda x : float(x.strip('%')))\n",
    "real_res['Trump_%'] = real_res['Trump_%'].apply(lambda x : float(x.strip('%')))\n",
    "\n",
    "real_res.rename(columns = {'State':'state'}, inplace=True)"
   ]
  },
  {
   "cell_type": "code",
   "execution_count": 13,
   "metadata": {},
   "outputs": [
    {
     "name": "stdout",
     "output_type": "stream",
     "text": [
      "null check: 0\n",
      "shape check: (56, 317)\n"
     ]
    }
   ],
   "source": [
    "# check merge error\n",
    "print('null check:',pd.merge(real_res, pi_fcst, on = 'state').isnull().sum().sum())\n",
    "print('shape check:', pd.merge(real_res, pi_fcst, on = 'state').shape)\n",
    "\n",
    "all_df = pd.merge(real_res, pi_fcst, on = 'state')"
   ]
  },
  {
   "cell_type": "code",
   "execution_count": 14,
   "metadata": {},
   "outputs": [],
   "source": [
    "# Calculate the mape\n",
    "\n",
    "b_mape = []\n",
    "b_mpe = []\n",
    "for i in chal_col :\n",
    "    b_mape.append(mean_absolute_percent_error(all_df['Biden_%'], all_df[i]))\n",
    "    b_mpe.append(mean_percent_error(all_df['Biden_%'], all_df[i]))\n",
    "\n",
    "t_mape = []\n",
    "t_mpe = []\n",
    "for i in inc_col :\n",
    "    t_mape.append(mean_absolute_percent_error(all_df['Trump_%'], all_df[i]))\n",
    "    t_mpe.append(mean_percent_error(all_df['Trump_%'], all_df[i]))\n",
    "\n",
    "# creat the index\n",
    "dt_col = []\n",
    "for i in chal_col :\n",
    "    dt_col.append(i.strip('chal_'))\n",
    "\n",
    "# creat the df\n",
    "mape_df = pd.DataFrame({'date':dt_col,'b_mape': b_mape, 'b_mpe':b_mpe,'t_mape':t_mape, 't_mpe':t_mpe})\n",
    "mape_df['date'] = pd.to_datetime(mape_df['date'])\n",
    "\n",
    "mape_df.index = mape_df['date']\n",
    "mape_df.drop('date',1,inplace=True)\n",
    "mape_df.sort_index(inplace=True)"
   ]
  },
  {
   "cell_type": "code",
   "execution_count": 15,
   "metadata": {},
   "outputs": [
    {
     "data": {
      "image/png": "[encoded data removed]",
      "text/plain": [
       "<Figure size 1152x504 with 1 Axes>"
      ]
     },
     "metadata": {
      "needs_background": "light"
     },
     "output_type": "display_data"
    }
   ],
   "source": [
    "f, ax = plt.subplots(1,1, figsize=(16,7))\n",
    "sns.lineplot(x=mape_df.index, y=mape_df['b_mape'], ax=ax)\n",
    "sns.lineplot(x=mape_df.index, y=mape_df['t_mape'], ax=ax)\n",
    "ax.fill_between(mape_df.index,mape_df['b_mape'], mape_df['t_mape'], color='grey', alpha='0.1')\n",
    "ax.yaxis.grid(False)\n",
    "ax.set_title('MAPE Gap', fontsize=20)\n",
    "ax.spines['right'].set_visible(False)\n",
    "ax.spines['top'].set_visible(False)\n",
    "ax.spines['left'].set_visible(False)\n",
    "#ax.axis('off')"
   ]
  },
  {
   "cell_type": "code",
   "execution_count": 16,
   "metadata": {},
   "outputs": [
    {
     "data": {
      "image/png": "[encoded data removed]",
      "text/plain": [
       "<Figure size 1152x504 with 1 Axes>"
      ]
     },
     "metadata": {
      "needs_background": "light"
     },
     "output_type": "display_data"
    }
   ],
   "source": [
    "f, ax = plt.subplots(1,1, figsize=(16,7))\n",
    "sns.lineplot(x=mape_df.index, y=mape_df['b_mpe'], ax=ax)\n",
    "sns.lineplot(x=mape_df.index, y=mape_df['t_mpe'], ax=ax)\n",
    "ax.fill_between(mape_df.index,mape_df['b_mpe'], mape_df['t_mpe'], color='grey', alpha='0.1')\n",
    "ax.yaxis.grid(False)\n",
    "#ax.yaxis.grid(color='light grey', linewidth=1)\n",
    "ax.set_title('MPE Gap', fontsize=20)\n",
    "ax.spines['right'].set_visible(False)\n",
    "ax.spines['top'].set_visible(False)\n",
    "ax.spines['left'].set_visible(False)"
   ]
  },
  {
   "cell_type": "markdown",
   "metadata": {},
   "source": [
    "* 일관되게 Biden 당선인의 mape는 높았고, trump 당선인의 mape는 낮았음\n",
    "* 심지어 마지막 시점 11/3에는 바이든은 주 평균, 2% point 이상 과대 예측되고, 트럼프는 6% point 정도 과소 예측되었음\n",
    "* shy trump가 이번에도 존재했다는 것을 확인 가능"
   ]
  },
  {
   "cell_type": "code",
   "execution_count": 17,
   "metadata": {},
   "outputs": [
    {
     "data": {
      "text/plain": [
       "<matplotlib.axes._subplots.AxesSubplot at 0x1f06a585dc8>"
      ]
     },
     "execution_count": 17,
     "metadata": {},
     "output_type": "execute_result"
    },
    {
     "data": {
      "image/png": "[encoded data removed]",
      "text/plain": [
       "<Figure size 504x504 with 1 Axes>"
      ]
     },
     "metadata": {
      "needs_background": "light"
     },
     "output_type": "display_data"
    }
   ],
   "source": [
    "i_fin = 'inc_11/3/2020'\n",
    "c_fin = 'chal_11/3/2020'\n",
    "\n",
    "all_df['finDiff_b'] = all_df['Biden_%'] - all_df[c_fin]\n",
    "all_df['finDiff_t'] = all_df['Trump_%'] - all_df[i_fin] \n",
    "all_df['predDiff'] = all_df[i_fin] - all_df[c_fin]\n",
    "all_df['resDiff'] = all_df['Trump_%'] - all_df['Biden_%']\n",
    "\n",
    "plt.figure(figsize=(7,7))\n",
    "sns.scatterplot(all_df['predDiff'], all_df['finDiff_t'])\n",
    "#sns.scatterplot(all_df['finDiff_b'], all_df['resDiff'])"
   ]
  },
  {
   "cell_type": "code",
   "execution_count": 18,
   "metadata": {},
   "outputs": [
    {
     "data": {
      "text/html": [
       "<div>\n",
       "<style scoped>\n",
       "    .dataframe tbody tr th:only-of-type {\n",
       "        vertical-align: middle;\n",
       "    }\n",
       "\n",
       "    .dataframe tbody tr th {\n",
       "        vertical-align: top;\n",
       "    }\n",
       "\n",
       "    .dataframe thead th {\n",
       "        text-align: right;\n",
       "    }\n",
       "</style>\n",
       "<table border=\"1\" class=\"dataframe\">\n",
       "  <thead>\n",
       "    <tr style=\"text-align: right;\">\n",
       "      <th></th>\n",
       "      <th>predDiff</th>\n",
       "      <th>finDiff_t</th>\n",
       "    </tr>\n",
       "  </thead>\n",
       "  <tbody>\n",
       "    <tr>\n",
       "      <td>predDiff</td>\n",
       "      <td>1.000000</td>\n",
       "      <td>0.388475</td>\n",
       "    </tr>\n",
       "    <tr>\n",
       "      <td>finDiff_t</td>\n",
       "      <td>0.388475</td>\n",
       "      <td>1.000000</td>\n",
       "    </tr>\n",
       "  </tbody>\n",
       "</table>\n",
       "</div>"
      ],
      "text/plain": [
       "           predDiff  finDiff_t\n",
       "predDiff   1.000000   0.388475\n",
       "finDiff_t  0.388475   1.000000"
      ]
     },
     "execution_count": 18,
     "metadata": {},
     "output_type": "execute_result"
    }
   ],
   "source": [
    "all_df[['predDiff', 'finDiff_t']].corr()"
   ]
  },
  {
   "cell_type": "markdown",
   "metadata": {},
   "source": [
    "* 트럼프와 바이든 후보의 격차가 클수록 트럼프 실제와 예측간 결과도 컸다는 것을 볼 수 있음 \n",
    "* 정리하자면, 예측시 트럼프와 바이든 후보 격차가 클수록 여론조사에서 잡아내지 못한 '샤이 트럼프' 규모도 컸던 거 같음\n",
    "* 다만 차이가 컸지만 오차는 거의 0% point인 washington 특별구도 존재"
   ]
  },
  {
   "cell_type": "code",
   "execution_count": 19,
   "metadata": {},
   "outputs": [
    {
     "data": {
      "image/png": "[encoded data removed]",
      "text/plain": [
       "<Figure size 504x504 with 1 Axes>"
      ]
     },
     "metadata": {
      "needs_background": "light"
     },
     "output_type": "display_data"
    }
   ],
   "source": [
    "f, ax = plt.subplots(1,1, figsize=(7,7))\n",
    "sns.lineplot( all_df[i_fin], all_df[i_fin],ax=ax, c='red')\n",
    "sns.regplot(all_df[i_fin], all_df['Trump_%'], color='green')\n",
    "#sns.scatterplot(all_df[i_fin],all_df['Trump_%'],  ax=ax)\n",
    "ax.grid(False)\n",
    "ax.spines['right'].set_visible(False)\n",
    "ax.spines['top'].set_visible(False)\n",
    "#ax.spines['left'].set_visible(False)\n"
   ]
  },
  {
   "cell_type": "markdown",
   "metadata": {},
   "source": [
    "* 위 그래프를 보면, 트럼프 예측이 높을 수록 실제 결과가 기울기 1인 빨간 직선 위로 더 높게 형성되어있음\n",
    "* 실제로 두 변수의 회귀선은 기울기가 1보다 조금 높음을 볼 수 있음"
   ]
  }
 ],
 "metadata": {
  "kernelspec": {
   "display_name": "Python 3",
   "language": "python",
   "name": "python3"
  },
  "language_info": {
   "codemirror_mode": {
    "name": "ipython",
    "version": 3
   },
   "file_extension": ".py",
   "mimetype": "text/x-python",
   "name": "python",
   "nbconvert_exporter": "python",
   "pygments_lexer": "ipython3",
   "version": "3.7.4"
  }
 },
 "nbformat": 4,
 "nbformat_minor": 2
}
