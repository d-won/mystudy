{
 "cells": [
  {
   "cell_type": "code",
   "execution_count": 1,
   "metadata": {},
   "outputs": [],
   "source": [
    "import requests\n",
    "import datetime\n",
    "from bs4 import BeautifulSoup\n",
    "import re\n",
    "import datetime\n",
    "import matplotlib.pyplot as plt\n",
    "%matplotlib inline\n",
    "\n",
    "plt.rc('font', family='NanumGothic')\n",
    "api_key = '...'# 일반인증키(Decode 필요)"
   ]
  },
  {
   "cell_type": "code",
   "execution_count": 2,
   "metadata": {},
   "outputs": [],
   "source": [
    "def get_data(xml_data, columnName) :\n",
    "    rows = xml_data.findAll('item')\n",
    "    \n",
    "    # 돌아가는 코드 확인\n",
    "    # print(rows[0].find_all()[0].name)\n",
    "    # print(rows[0].find_all()[0].text.strip())\n",
    "\n",
    "    rowList = []\n",
    "    nameList = []\n",
    "    columnList = []\n",
    "\n",
    "    rowsLen = len(rows)\n",
    "\n",
    "    for i in range(0, rowsLen):\n",
    "        for j in columnName:\n",
    "            #### Column 별 data 수집하기 (Row 데이터 생성)\n",
    "            try :\n",
    "                eachColumn = rows[i].find(j).text.strip() # column 내 순서대로 값들 추출\n",
    "            except :\n",
    "                eachColumn = np.nan\n",
    "\n",
    "            columnList.append(eachColumn) # 추출한 값들을 list 형태로 저장, 다 저장되면 1개 row의 모든 값들 저장 완성\n",
    "\n",
    "        ### Row 데이터 누적\n",
    "        rowList.append(columnList) # 위에서 완성된 row data를 rowList에 저장하여 1개씩 row 누적 완성\n",
    "        columnList = []\n",
    "\n",
    "    result = pd.DataFrame(rowList, columns=columnName) # 값 자체가 row로 누적되었고, nameList는 column 명임\n",
    "    \n",
    "    result['거래금액'] = result['거래금액'].str.replace(',','').astype(int)\n",
    "    result = result[['거래금액','건축년도','아파트', '월', '일', '전용면적', '층']]\n",
    "    result[['거래금액','건축년도', '월', '일', '층']] = result[['거래금액','건축년도', '월', '일', '층']].astype(int)\n",
    "    result['전용면적'] = result['전용면적'].astype(float)\n",
    "    \n",
    "    return result"
   ]
  },
  {
   "cell_type": "markdown",
   "metadata": {},
   "source": [
    "# 전체 법정동 코드 갖고오기"
   ]
  },
  {
   "cell_type": "markdown",
   "metadata": {},
   "source": [
    "https://www.code.go.kr/index.do (여기서 다운)"
   ]
  },
  {
   "cell_type": "code",
   "execution_count": 3,
   "metadata": {},
   "outputs": [],
   "source": [
    "gu_cd = pd.read_csv('법정동코드 전체자료.txt', encoding='euc-kr', sep='\\t')\n",
    "\n",
    "# # 2개 방법 존재\n",
    "# gu_cd.loc[gu_cd['법정동명'].str.contains('(구$)', regex=True),] # 1번\n",
    "# r = re.compile('구$') # 2번\n",
    "# gu_cd['법정동명'].apply(lambda x : True if r.search(x) else False)\n",
    "\n",
    "temp_gu = gu_cd.loc[(gu_cd['법정동명'].str.contains('서울특별시'))&(gu_cd['법정동명'].str.contains('(구$)', regex=True)),'법정동코드'].astype(str)\n",
    "gu_df = gu_cd.loc[(gu_cd['법정동명'].str.contains('서울특별시'))&(gu_cd['법정동명'].str.contains('(구$)', regex=True)),['법정동코드', '법정동명']]\n",
    "gu_list = temp_gu.apply(lambda x : str(x)[:5]).values.tolist()\n",
    "\n",
    "gu_df['법정동명'] = gu_df['법정동명'].str.split(' ', expand=True)[1]\n",
    "gu_df['법정동코드'] = gu_list"
   ]
  },
  {
   "cell_type": "markdown",
   "metadata": {},
   "source": [
    "# API 로 서울 모든 구, 실매매 데이터 갖고오기"
   ]
  },
  {
   "cell_type": "code",
   "execution_count": 4,
   "metadata": {},
   "outputs": [
    {
     "name": "stdout",
     "output_type": "stream",
     "text": [
      "종로구\n",
      "중구\n",
      "용산구\n",
      "성동구\n",
      "광진구\n",
      "동대문구\n",
      "중랑구\n",
      "성북구\n",
      "강북구\n",
      "도봉구\n",
      "노원구\n",
      "은평구\n",
      "서대문구\n",
      "마포구\n",
      "양천구\n",
      "강서구\n",
      "구로구\n",
      "금천구\n",
      "영등포구\n",
      "동작구\n",
      "관악구\n",
      "서초구\n",
      "강남구\n",
      "송파구\n",
      "강동구\n",
      "모두 불러왔는지 확인: True\n"
     ]
    }
   ],
   "source": [
    "todayM = datetime.datetime.now().strftime('%Y%m')\n",
    "url = 'http://openapi.molit.go.kr/OpenAPI_ToolInstallPackage/service/rest/RTMSOBJSvc/getRTMSDataSvcAptTradeDev'\n",
    "columnName = ['거래금액', '거래유형', '건축년도', '년', '도로명', '도로명건물본번호코드', '도로명건물부번호코드',\n",
    "       '도로명시군구코드', '도로명일련번호코드', '도로명지상지하코드', '도로명코드', '법정동', '법정동본번코드',\n",
    "       '법정동부번코드', '법정동시군구코드', '법정동읍면동코드', '법정동지번코드', '아파트', '월', '일', '일련번호',\n",
    "       '전용면적', '중개사소재지', '지번', '지역코드', '층', '해제사유발생일', '해제여부']\n",
    "# 칼럼명을 모두 지정하는 이유는 행별로 순서가 뒤바뀌는 경우가 있기 때문\n",
    "\n",
    "all_df = pd.DataFrame()\n",
    "\n",
    "for i in gu_list : \n",
    "    try : \n",
    "        params ={'serviceKey' : api_key,  'LAWD_CD' : i, 'DEAL_YMD' : '202112'} # 기타 파라미터는 상세 설명 참조\n",
    "        response = requests.get(url, params=params).text.encode('utf-8')\n",
    "        xmlobj = BeautifulSoup(response, 'xml')\n",
    "\n",
    "        temp_df = get_data(xmlobj, columnName)\n",
    "        temp_df['법정동명'] = gu_df.loc[gu_df['법정동코드'] == i, ['법정동명']].values[0][0]\n",
    "        all_df = pd.concat([all_df, temp_df], 0)\n",
    "        print(temp_df['법정동명'].unique()[0])\n",
    "        \n",
    "    except :\n",
    "        print('안 불러와진 구:',gu_df.loc[gu_df['법정동코드'] == i, ['법정동명']].values[0][0])\n",
    "        pass\n",
    "    \n",
    "print('모두 불러왔는지 확인:',gu_df['법정동명'].nunique() == all_df['법정동명'].nunique())"
   ]
  },
  {
   "cell_type": "code",
   "execution_count": 5,
   "metadata": {},
   "outputs": [
    {
     "data": {
      "image/png": "[encoded data removed]",
      "text/plain": [
       "<Figure size 720x504 with 1 Axes>"
      ]
     },
     "metadata": {
      "needs_background": "light"
     },
     "output_type": "display_data"
    }
   ],
   "source": [
    "plt.figure(figsize=(10, 7))\n",
    "plt.scatter(all_df.groupby('법정동명')['거래금액'].mean(), all_df.groupby('법정동명')['전용면적'].mean())\n",
    "\n",
    "for x, y, n in zip(all_df.groupby('법정동명')['거래금액'].mean(),\n",
    "                   all_df.groupby('법정동명')['전용면적'].mean(),\n",
    "                   all_df.groupby('법정동명')['거래금액'].mean().index):\n",
    "    plt.text(x+0.1, y+0.1, n, fontsize=10)"
   ]
  }
 ],
 "metadata": {
  "kernelspec": {
   "display_name": "Python 3",
   "language": "python",
   "name": "python3"
  },
  "language_info": {
   "codemirror_mode": {
    "name": "ipython",
    "version": 3
   },
   "file_extension": ".py",
   "mimetype": "text/x-python",
   "name": "python",
   "nbconvert_exporter": "python",
   "pygments_lexer": "ipython3",
   "version": "3.7.4"
  }
 },
 "nbformat": 4,
 "nbformat_minor": 2
}
