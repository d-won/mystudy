{
 "cells": [
  {
   "cell_type": "code",
   "execution_count": 1,
   "metadata": {},
   "outputs": [],
   "source": [
    "from urllib.request import urlopen, Request\n",
    "import urllib\n",
    "from bs4 import BeautifulSoup\n",
    "import requests\n",
    "import re\n",
    "\n",
    "import pandas as pd\n",
    "import numpy as np"
   ]
  },
  {
   "cell_type": "markdown",
   "metadata": {},
   "source": [
    "* 참고사이트\n",
    "1. https://hogni.tistory.com/65 (한글 parsing)"
   ]
  },
  {
   "cell_type": "markdown",
   "metadata": {},
   "source": [
    "### 1. 읽어오기"
   ]
  },
  {
   "cell_type": "code",
   "execution_count": 2,
   "metadata": {},
   "outputs": [],
   "source": [
    "search_word = \"왕좌의 게임\"\n",
    "s_word = urllib.parse.quote(search_word)\n",
    "url_ = 'https://namu.wiki/w/'+s_word\n",
    "\n",
    "webpage = requests.get(url_) # forbidden 우회 가능\n",
    "html = BeautifulSoup(webpage.text, 'html.parser')\n",
    "\n",
    "#html = urlopen(url_)\n",
    "# req = Request(url_, headers={'User-Agent': 'Mozilla/5.0'})\n",
    "# webpage = urlopen(req).read()"
   ]
  },
  {
   "cell_type": "markdown",
   "metadata": {},
   "source": [
    "### 2. 목차 보기"
   ]
  },
  {
   "cell_type": "code",
   "execution_count": 3,
   "metadata": {},
   "outputs": [],
   "source": [
    "index_list = []\n",
    "for i in range(len(html.find('div', {'class' : 'toc-indent'}).findAll('span'))) :\n",
    "    \n",
    "    index_ = html.find('div', {'class' : 'toc-indent'}).findAll('span')[i].get_text()\n",
    "    index_list.append(index_)"
   ]
  },
  {
   "cell_type": "code",
   "execution_count": 4,
   "metadata": {},
   "outputs": [
    {
     "name": "stdout",
     "output_type": "stream",
     "text": [
      "1. 개요\n",
      "2. 줄거리\n",
      "3. 제작 과정\n",
      "4. 시즌\n",
      " 4.1. 원작과의 차이점\n",
      " 4.2. 시청률\n",
      "5. 등장인물\n",
      "6. 한국에서의 방영 및 번역\n",
      "7. 음악\n",
      "8. 평가\n",
      " 8.1. 비판\n",
      "9. 기타\n",
      " 10. 스핀오프/프리퀄\n",
      " 10.1. 블러드문 (Bloodmoon, 혈월) - 제작취소\n",
      " 10.2. 하우스 오브 드래곤 (House of Dragon, 용들의 가문)\n",
      " 10.3. 그 외\n",
      " 11. 게임\n",
      " 11.1. Game of Thrones: Genesis\n",
      " 11.2. Game of Thrones RPG\n",
      " 11.3. Game of Thrones Ascent\n",
      " 11.4. 왕좌의 게임\n",
      " 11.5. Reigns: Game of Thrones\n",
      " 11.6. Game of Thrones Winter is Coming\n",
      " 11.6.1. 광고\n",
      " 11.7. A Game of Thrones: The Board Game\n",
      " 12. 왕좌의 게임 관련 단행도서\n"
     ]
    }
   ],
   "source": [
    "for i in range(len(index_list)) :\n",
    "    if len(re.findall('\\d',index_list[i])) < 2: # 정규표현식 이용, 한자리 숫자별로 추출\n",
    "        print(index_list[i])\n",
    "    else :\n",
    "        print(' '+index_list[i])"
   ]
  },
  {
   "cell_type": "code",
   "execution_count": 5,
   "metadata": {},
   "outputs": [],
   "source": [
    "def get_number(nt_, index_list = index_list) :\n",
    "    n_s = 0\n",
    "    re_t = \"^(\"+nt_+\" )\"\n",
    "    for n, i in enumerate(index_list) :\n",
    "        if re.findall(re_t, i) :\n",
    "            n_s = 1\n",
    "            return n\n",
    "    if n_s != 1:\n",
    "        print('해당 목차를 찾을 수 없습니다.')"
   ]
  },
  {
   "cell_type": "markdown",
   "metadata": {},
   "source": [
    "### 3. 원하는 목차 내용 보기"
   ]
  },
  {
   "cell_type": "code",
   "execution_count": 6,
   "metadata": {},
   "outputs": [],
   "source": [
    "def get_contents(c_idx) :\n",
    "    t_list = []\n",
    "    \n",
    "    c_len = len(html.findAll('div', {'class':'wiki-heading-content'})[c_idx].findAll('div'))\n",
    "\n",
    "    for i in range(c_len) :\n",
    "        try :\n",
    "            if 'table-center' in html.findAll('div', {'class': 'wiki-heading-content'})[c_idx].findAll('div')[i].attrs['class'] :\n",
    "                pass\n",
    "            else :\n",
    "                t_ = html.findAll('div', {'class': 'wiki-heading-content'})[c_idx].findAll('div')[i].get_text()\n",
    "                if t_ in t_list :\n",
    "                    pass\n",
    "                else :\n",
    "                    t_list.append(t_)\n",
    "        except :\n",
    "            pass\n",
    "    \n",
    "    return t_list"
   ]
  },
  {
   "cell_type": "code",
   "execution_count": 7,
   "metadata": {
    "scrolled": false
   },
   "outputs": [
    {
     "name": "stdout",
     "output_type": "stream",
     "text": [
      "2. 줄거리\n",
      "\n",
      "수십 년간 이어진 여름, 하지만 이제 끝나지 않을 겨울이 다가온다. 철왕좌를 차지하기 위한 피의 서사시\n",
      "\n",
      "웨스테로스 대륙, 칠왕국의 국왕이었던 미친 왕 아에리스 2세의 폭정에 반발하여 로버트 바라테온, 존 아린, 에다드 스타크를 주축으로 한 로버트의 반란이 일어났다. 이 반란으로 타르가르옌 가문의 300년 철권 통치는 막을 내리고 로버트 바라테온이 국왕이 된다. 로버트의 반란 17년 후[3], 에다드 스타크는 급사한 존 아린을 대신하여 자신의 주군이자 오랜 친구인 로버트 바라테온의 핸드 역할을 하기 위해 킹스 랜딩으로 떠난다. 로버트 바라테온은 에다드 스타크에게 유언을 남기고 죽고, 에다드 스타크는 로버트의 아들들이 로버트와 왕비 사이에서 나온 아들이 아닌 왕비의 근친으로 태어난 아들임을 깨닫고 이를 파헤치다 왕비의 음모에 휘말려 구금된다.로버트의 죽음 이후 수많은 영주들이 왕을 자처하며 일어나 다섯 왕의 전쟁이 일어난다. 로버트의 죽음 이후 왕에 오른 왕비의 아들 조프리 바라테온. 근친으로 낳은 아들들은 왕이 될 수 없으니 자신이 정당한 계승자임을 주장하는 로버트의 첫째 동생이자 좁은 해역의 왕 스타니스 바라테온, 구금된 아버지를 구출하고 북부와 리버랜드를 독립시키려는 북부의 왕 롭 스타크, 높은 인망으로 남부의 지지를 받는 로버트의 둘째 동생이자 하이 가든의 왕 렌리 바라테온, 혼란을 틈타 강철 군도의 힘을 한데 모아 웨스테로스로 진출하려는 소금과 암초의 왕 발론 그레이조이.한편 타르가르옌 가문의 마지막 후예인 비세리스 타르가르옌은 바다 건너 에소스 대륙으로 도망쳐 도트라키의 우두머리인 칼 드로고와 여동생 대너리스 타르가르옌을 결혼시켜 강력한 군대를 얻고 다시 왕좌를 되찾으려 한다. 장벽 너머에는 전설 속의 존재인 백귀들이 부활했다는 소문이 돌고, 만스 레이더는 와일들링을 규합하여 백귀들과 여름에 뒤따라올 기나긴 겨울로부터 도망치기 위해 장벽을 넘으려 한다.겨울이 오고 있다. 왕좌의 게임에서 승리하지 못하면 죽는다!\n"
     ]
    }
   ],
   "source": [
    "c_idx = get_number('2.')\n",
    "print(index_list[c_idx] + '\\n\\n'+'\\n\\n'.join(get_contents(c_idx)))"
   ]
  }
 ],
 "metadata": {
  "kernelspec": {
   "display_name": "Python 3",
   "language": "python",
   "name": "python3"
  },
  "language_info": {
   "codemirror_mode": {
    "name": "ipython",
    "version": 3
   },
   "file_extension": ".py",
   "mimetype": "text/x-python",
   "name": "python",
   "nbconvert_exporter": "python",
   "pygments_lexer": "ipython3",
   "version": "3.7.4"
  }
 },
 "nbformat": 4,
 "nbformat_minor": 2
}
