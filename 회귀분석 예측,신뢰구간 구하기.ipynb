{
 "cells": [
  {
   "cell_type": "code",
   "execution_count": 32,
   "metadata": {},
   "outputs": [],
   "source": [
    "import numpy as np\n",
    "from scipy.stats import t\n",
    "import pandas as pd"
   ]
  },
  {
   "cell_type": "markdown",
   "metadata": {},
   "source": [
    "### Confidence Interval Formula\n",
    "\n",
    "* $ \\hat{y_0} \\pm t_{crit}\\cdot s.e.$\n",
    "* $ s.e. = \\sqrt{MS_{Res} \\cdot (X_0^T(X^TX)^{-1}X_0)}$\n",
    "* $X_0 = [x_1, \\cdots x_n]$\n",
    "\n",
    "### Prediction Interval Formula\n",
    "\n",
    "* $ \\hat{y_0} \\pm t_{crit}\\cdot \\sqrt{MS_{Res} \\cdot (1+(X_0^T(X^TX)^{-1}X_0))}$"
   ]
  },
  {
   "cell_type": "markdown",
   "metadata": {},
   "source": [
    "### reference site\n",
    "* https://www.real-statistics.com/multiple-regression/confidence-and-prediction-intervals/\n",
    "* https://stats.stackexchange.com/questions/147242/how-to-calculate-the-prediction-interval-for-an-ols-multiple-regression/147254\n"
   ]
  },
  {
   "cell_type": "code",
   "execution_count": 33,
   "metadata": {},
   "outputs": [],
   "source": [
    "df=pd.read_excel('sample.xlsx')"
   ]
  },
  {
   "cell_type": "code",
   "execution_count": 34,
   "metadata": {},
   "outputs": [],
   "source": [
    "def ci_pi(x0, df, y, t_a=0.975):\n",
    "    X = df.drop(y,1)\n",
    "    y = df[y]\n",
    "    \n",
    "    dfRes = X.shape[0] - X.shape[1] - 1\n",
    "    \n",
    "    X_col = X.columns.tolist()\n",
    "    X['constant'] = 1 # intercept를 위함\n",
    "    X_f = X[['constant']+X_col].copy()\n",
    "    \n",
    "        \n",
    "    # 공분산 역행렬, 회귀계수 도출 후 예측값 구하기\n",
    "    cov = np.linalg.inv(np.matmul(X_f.values.T, X_f.values))\n",
    "    coef = np.matmul(np.matmul(cov, X_f.values.T), y)\n",
    "    y0 = np.matmul(x0, coef.reshape(-1,1))    \n",
    "\n",
    "    \n",
    "    # 잔차 통계량 구하기\n",
    "    res = y.values - np.matmul(X_f.values, coef.reshape(-1, 1)).reshape(-1, )\n",
    "    msRes = np.sum(res ** 2) / dfRes\n",
    "    \n",
    "    # t 함수값 구하기\n",
    "    t_ = t(dfRes)\n",
    "    t_res = t_.ppf(t_a)\n",
    "    \n",
    "    # 정해진 식에 따라 표준오차 구하기\n",
    "    var_ci = np.sqrt(msRes* np.matmul(np.matmul(x0, cov), x0.T))\n",
    "    var_pi = np.sqrt(msRes* np.matmul(np.matmul(x0, cov), x0.T) + msRes)\n",
    "    \n",
    "    # 최종 식에 따른 신뢰구간 도출\n",
    "    ci_low, ci_upp = y0 - (var_ci*t_res), y0+(var_ci*t_res)\n",
    "    pi_low, pi_upp = y0 - (var_pi*t_res), y0+(var_pi*t_res)\n",
    "    \n",
    "    return ci_low[0][0], ci_upp[0][0], pi_low[0][0], pi_upp[0][0]"
   ]
  },
  {
   "cell_type": "code",
   "execution_count": 35,
   "metadata": {},
   "outputs": [
    {
     "data": {
      "text/plain": [
       "(12.144995207917642, 13.590365544716288, 7.842878385248262, 17.892482367385668)"
      ]
     },
     "execution_count": 35,
     "metadata": {},
     "output_type": "execute_result"
    }
   ],
   "source": [
    "x0 = np.array([[1, 7, 80, 400]])\n",
    "ci_pi(x0, df.iloc[:, 1:], 'Poverty', 0.975)"
   ]
  }
 ],
 "metadata": {
  "kernelspec": {
   "display_name": "Python 3",
   "language": "python",
   "name": "python3"
  },
  "language_info": {
   "codemirror_mode": {
    "name": "ipython",
    "version": 3
   },
   "file_extension": ".py",
   "mimetype": "text/x-python",
   "name": "python",
   "nbconvert_exporter": "python",
   "pygments_lexer": "ipython3",
   "version": "3.7.4"
  }
 },
 "nbformat": 4,
 "nbformat_minor": 2
}
